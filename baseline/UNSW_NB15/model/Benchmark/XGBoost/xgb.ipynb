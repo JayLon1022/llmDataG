{
 "cells": [
  {
   "cell_type": "code",
   "execution_count": 1,
   "metadata": {},
   "outputs": [
    {
     "name": "stdout",
     "output_type": "stream",
     "text": [
      "处理未知类型: A\n",
      "加载数据...\n",
      "预处理数据...\n",
      "训练XGBoost模型...\n",
      "训练完成，耗时: 0.07 秒\n",
      "在验证集上寻找最佳阈值...\n"
     ]
    },
    {
     "name": "stderr",
     "output_type": "stream",
     "text": [
      "/home/jaylon/anaconda3/envs/llm/lib/python3.12/site-packages/xgboost/core.py:158: UserWarning: [14:14:21] WARNING: /croot/xgboost-split_1724073744422/work/src/learner.cc:740: \n",
      "Parameters: { \"use_label_encoder\" } are not used.\n",
      "\n",
      "  warnings.warn(smsg, UserWarning)\n"
     ]
    },
    {
     "name": "stdout",
     "output_type": "stream",
     "text": [
      "在测试集上进行最终评估...\n",
      "处理未知类型: B\n",
      "加载数据...\n",
      "预处理数据...\n",
      "训练XGBoost模型...\n",
      "训练完成，耗时: 0.05 秒\n",
      "在验证集上寻找最佳阈值...\n"
     ]
    },
    {
     "name": "stderr",
     "output_type": "stream",
     "text": [
      "/home/jaylon/anaconda3/envs/llm/lib/python3.12/site-packages/xgboost/core.py:158: UserWarning: [14:14:24] WARNING: /croot/xgboost-split_1724073744422/work/src/learner.cc:740: \n",
      "Parameters: { \"use_label_encoder\" } are not used.\n",
      "\n",
      "  warnings.warn(smsg, UserWarning)\n"
     ]
    },
    {
     "name": "stdout",
     "output_type": "stream",
     "text": [
      "在测试集上进行最终评估...\n",
      "处理未知类型: D\n",
      "加载数据...\n",
      "预处理数据...\n",
      "训练XGBoost模型...\n",
      "训练完成，耗时: 0.07 秒\n",
      "在验证集上寻找最佳阈值...\n"
     ]
    },
    {
     "name": "stderr",
     "output_type": "stream",
     "text": [
      "/home/jaylon/anaconda3/envs/llm/lib/python3.12/site-packages/xgboost/core.py:158: UserWarning: [14:14:26] WARNING: /croot/xgboost-split_1724073744422/work/src/learner.cc:740: \n",
      "Parameters: { \"use_label_encoder\" } are not used.\n",
      "\n",
      "  warnings.warn(smsg, UserWarning)\n"
     ]
    },
    {
     "name": "stdout",
     "output_type": "stream",
     "text": [
      "在测试集上进行最终评估...\n",
      "处理未知类型: E\n",
      "加载数据...\n",
      "预处理数据...\n",
      "训练XGBoost模型...\n",
      "训练完成，耗时: 0.03 秒\n",
      "在验证集上寻找最佳阈值...\n"
     ]
    },
    {
     "name": "stderr",
     "output_type": "stream",
     "text": [
      "/home/jaylon/anaconda3/envs/llm/lib/python3.12/site-packages/xgboost/core.py:158: UserWarning: [14:14:29] WARNING: /croot/xgboost-split_1724073744422/work/src/learner.cc:740: \n",
      "Parameters: { \"use_label_encoder\" } are not used.\n",
      "\n",
      "  warnings.warn(smsg, UserWarning)\n"
     ]
    },
    {
     "name": "stdout",
     "output_type": "stream",
     "text": [
      "在测试集上进行最终评估...\n",
      "处理未知类型: F\n",
      "加载数据...\n",
      "预处理数据...\n",
      "训练XGBoost模型...\n",
      "训练完成，耗时: 0.05 秒\n",
      "在验证集上寻找最佳阈值...\n"
     ]
    },
    {
     "name": "stderr",
     "output_type": "stream",
     "text": [
      "/home/jaylon/anaconda3/envs/llm/lib/python3.12/site-packages/xgboost/core.py:158: UserWarning: [14:14:32] WARNING: /croot/xgboost-split_1724073744422/work/src/learner.cc:740: \n",
      "Parameters: { \"use_label_encoder\" } are not used.\n",
      "\n",
      "  warnings.warn(smsg, UserWarning)\n"
     ]
    },
    {
     "name": "stdout",
     "output_type": "stream",
     "text": [
      "在测试集上进行最终评估...\n",
      "处理未知类型: G\n",
      "加载数据...\n",
      "预处理数据...\n",
      "训练XGBoost模型...\n",
      "训练完成，耗时: 0.08 秒\n",
      "在验证集上寻找最佳阈值...\n"
     ]
    },
    {
     "name": "stderr",
     "output_type": "stream",
     "text": [
      "/home/jaylon/anaconda3/envs/llm/lib/python3.12/site-packages/xgboost/core.py:158: UserWarning: [14:14:34] WARNING: /croot/xgboost-split_1724073744422/work/src/learner.cc:740: \n",
      "Parameters: { \"use_label_encoder\" } are not used.\n",
      "\n",
      "  warnings.warn(smsg, UserWarning)\n"
     ]
    },
    {
     "name": "stdout",
     "output_type": "stream",
     "text": [
      "在测试集上进行最终评估...\n",
      "处理未知类型: R\n",
      "加载数据...\n",
      "预处理数据...\n",
      "训练XGBoost模型...\n",
      "训练完成，耗时: 0.05 秒\n",
      "在验证集上寻找最佳阈值...\n"
     ]
    },
    {
     "name": "stderr",
     "output_type": "stream",
     "text": [
      "/home/jaylon/anaconda3/envs/llm/lib/python3.12/site-packages/xgboost/core.py:158: UserWarning: [14:14:37] WARNING: /croot/xgboost-split_1724073744422/work/src/learner.cc:740: \n",
      "Parameters: { \"use_label_encoder\" } are not used.\n",
      "\n",
      "  warnings.warn(smsg, UserWarning)\n"
     ]
    },
    {
     "name": "stdout",
     "output_type": "stream",
     "text": [
      "在测试集上进行最终评估...\n",
      "处理未知类型: S\n",
      "加载数据...\n",
      "预处理数据...\n",
      "训练XGBoost模型...\n",
      "训练完成，耗时: 0.08 秒\n",
      "在验证集上寻找最佳阈值...\n"
     ]
    },
    {
     "name": "stderr",
     "output_type": "stream",
     "text": [
      "/home/jaylon/anaconda3/envs/llm/lib/python3.12/site-packages/xgboost/core.py:158: UserWarning: [14:14:40] WARNING: /croot/xgboost-split_1724073744422/work/src/learner.cc:740: \n",
      "Parameters: { \"use_label_encoder\" } are not used.\n",
      "\n",
      "  warnings.warn(smsg, UserWarning)\n"
     ]
    },
    {
     "name": "stdout",
     "output_type": "stream",
     "text": [
      "在测试集上进行最终评估...\n",
      "处理未知类型: W\n",
      "加载数据...\n",
      "预处理数据...\n",
      "训练XGBoost模型...\n",
      "训练完成，耗时: 0.05 秒\n",
      "在验证集上寻找最佳阈值...\n"
     ]
    },
    {
     "name": "stderr",
     "output_type": "stream",
     "text": [
      "/home/jaylon/anaconda3/envs/llm/lib/python3.12/site-packages/xgboost/core.py:158: UserWarning: [14:14:43] WARNING: /croot/xgboost-split_1724073744422/work/src/learner.cc:740: \n",
      "Parameters: { \"use_label_encoder\" } are not used.\n",
      "\n",
      "  warnings.warn(smsg, UserWarning)\n"
     ]
    },
    {
     "name": "stdout",
     "output_type": "stream",
     "text": [
      "在测试集上进行最终评估...\n"
     ]
    }
   ],
   "source": [
    "import numpy as np\n",
    "import pandas as pd\n",
    "from xgboost import XGBClassifier\n",
    "from sklearn.preprocessing import StandardScaler\n",
    "from sklearn.metrics import accuracy_score, precision_score, recall_score, f1_score, confusion_matrix\n",
    "import matplotlib.pyplot as plt\n",
    "import seaborn as sns\n",
    "import time\n",
    "\n",
    "# 设置随机种子以确保结果可复现\n",
    "np.random.seed(42)\n",
    "\n",
    "# 数据加载\n",
    "def load_data(train_self_path, train_nonself_path, test_self_path, test_nonself_path,unknown_path):\n",
    "    train_nonself = pd.read_csv(train_nonself_path)\n",
    "    train_self = pd.read_csv(train_self_path)\n",
    "    train_self = train_self.sample(n=len(train_nonself),random_state=42)\n",
    "    \n",
    "    unknown = pd.read_csv(unknown_path)\n",
    "    \n",
    "    # 加载测试数据\n",
    "    test_self = pd.read_csv(test_self_path)\n",
    "    test_self = test_self.sample(n=5000,random_state=42)\n",
    "    test_nonself = pd.read_csv(test_nonself_path)\n",
    "    test_nonself = test_nonself.sample(n=5000,random_state=42)\n",
    "    \n",
    "    # 添加标签：自体为0，非自体为1\n",
    "    train_self['label'] = 0\n",
    "    train_nonself['label'] = 1\n",
    "    test_self['label'] = 0\n",
    "    test_nonself['label'] = 1\n",
    "    \n",
    "    # 合并训练集和测试集\n",
    "    train_data = pd.concat([train_self, train_nonself], axis=0).reset_index(drop=True)\n",
    "    train_data = train_data.sample(frac=1, random_state=42).reset_index(drop=True)\n",
    "    test_data = pd.concat([test_self, test_nonself], axis=0).reset_index(drop=True)\n",
    "    test_data = test_data.sample(frac=1, random_state=42).reset_index(drop=True)\n",
    "\n",
    "    return train_data, test_data, unknown\n",
    "\n",
    "# 数据预处理函数\n",
    "def preprocess_data(train_data, test_data):\n",
    "    # 分离特征和标签\n",
    "    X_train = train_data.drop('label', axis=1).values\n",
    "    y_train = train_data['label'].values\n",
    "    X_test = test_data.drop('label', axis=1).values\n",
    "    y_test = test_data['label'].values\n",
    "    \n",
    "    return X_train, y_train, X_test, y_test\n",
    "\n",
    "# 训练XGBoost模型\n",
    "def train_model(X_train, y_train, n_estimators=100, learning_rate=0.1, max_depth=3):\n",
    "    # 创建XGBoost分类器\n",
    "    model = XGBClassifier(\n",
    "        n_estimators=n_estimators,\n",
    "        learning_rate=learning_rate,\n",
    "        max_depth=max_depth,\n",
    "        random_state=42,\n",
    "        use_label_encoder=False,\n",
    "        eval_metric='logloss'\n",
    "    )\n",
    "    \n",
    "    # 训练模型\n",
    "    start_time = time.time()\n",
    "    model.fit(X_train, y_train)\n",
    "    training_time = time.time() - start_time\n",
    "    \n",
    "    return model, training_time\n",
    "\n",
    "# 评估未知覆盖率\n",
    "def evaluate_unknown_coverage(model, unknown_data, threshold=0.5):\n",
    "    # 预处理未知数据\n",
    "    X_unknown = unknown_data.values\n",
    "    \n",
    "    # 预测概率\n",
    "    y_proba = model.predict_proba(X_unknown)[:, 1]\n",
    "    \n",
    "    # 根据阈值确定预测结果\n",
    "    y_pred = (y_proba >= threshold).astype(int)\n",
    "    \n",
    "    # 计算未知覆盖率 - 被检测为异常的未知样本比例\n",
    "    unknown_coverage = np.mean(y_pred)\n",
    "    \n",
    "    return unknown_coverage\n",
    "\n",
    "# 评估误报率 - 在正常数据上\n",
    "def evaluate_false_positive_rate(model, normal_data, threshold=0.5):\n",
    "    # 预处理正常数据\n",
    "    X_normal = normal_data.drop('label', axis=1).values\n",
    "    \n",
    "    # 预测概率\n",
    "    y_proba = model.predict_proba(X_normal)[:, 1]\n",
    "    \n",
    "    # 根据阈值确定预测结果\n",
    "    y_pred = (y_proba >= threshold).astype(int)\n",
    "    \n",
    "    # 计算误报率 - 正常样本被错误分类为异常的比例\n",
    "    false_positive_rate = np.mean(y_pred)\n",
    "    \n",
    "    return false_positive_rate\n",
    "\n",
    "# 评估模型性能\n",
    "def evaluate_model(model, X_test, y_test, threshold=0.5):\n",
    "    # 预测概率\n",
    "    y_proba = model.predict_proba(X_test)[:, 1]\n",
    "    \n",
    "    # 根据阈值确定预测结果\n",
    "    y_pred = (y_proba >= threshold).astype(int)\n",
    "    \n",
    "    # 计算评估指标\n",
    "    accuracy = accuracy_score(y_test, y_pred)\n",
    "    precision = precision_score(y_test, y_pred)\n",
    "    recall = recall_score(y_test, y_pred)\n",
    "    f1 = f1_score(y_test, y_pred)\n",
    "    conf_matrix = confusion_matrix(y_test, y_pred)\n",
    "    \n",
    "    return accuracy, precision, recall, f1, conf_matrix\n",
    "\n",
    "# 计算最佳阈值\n",
    "def find_optimal_threshold(model, X_val, y_val):\n",
    "    # 收集所有预测分数\n",
    "    y_proba = model.predict_proba(X_val)[:, 1]\n",
    "    \n",
    "    # 尝试不同阈值\n",
    "    thresholds = np.linspace(0, 1, 1000)\n",
    "    results = []\n",
    "    \n",
    "    for threshold in thresholds:\n",
    "        # 计算验证集上的指标\n",
    "        y_pred = (y_proba >= threshold).astype(int)\n",
    "\n",
    "        f1 = f1_score(y_val, y_pred)\n",
    "\n",
    "        # 计算综合得分 (可以根据需要调整权重)\n",
    "        score = f1\n",
    "        \n",
    "        results.append((threshold, f1, score))\n",
    "    \n",
    "    # 找到最佳阈值\n",
    "    best_result = max(results, key=lambda x: x[1])\n",
    "    return best_result\n",
    "\n",
    "# 主函数\n",
    "def main():\n",
    "    unknown_types = [\"A\", \"B\", \"D\", \"E\", \"F\", \"G\", \"R\", \"S\", \"W\"]\n",
    "    for unknown_type in unknown_types:\n",
    "        # 设置数据路径\n",
    "        train_self_path = '../../../check/self/train_self.csv'\n",
    "        train_nonself_path = f'../../../check/train/seed_{unknown_type}.csv'\n",
    "        test_self_path = '../../../check/self/test_self.csv'\n",
    "        test_nonself_path = '../../../check/nonself/test_nonself.csv'\n",
    "        unknown_path = f'../../../check/unknown/{unknown_type}.csv'\n",
    "        # 加载数据\n",
    "        print(f\"处理未知类型: {unknown_type}\")\n",
    "        print(\"加载数据...\")\n",
    "        train_data, test_data, unknown = load_data(train_self_path, train_nonself_path, test_self_path, test_nonself_path,unknown_path)\n",
    "        \n",
    "        # 预处理数据\n",
    "        print(\"预处理数据...\")\n",
    "        X_train, y_train, X_test, y_test = preprocess_data(train_data, test_data)\n",
    "        \n",
    "        # 将训练集分为训练集和验证集（80%训练，20%验证）\n",
    "        train_size = int(0.8 * len(X_train))\n",
    "        X_train_split, X_val = X_train[:train_size], X_train[train_size:]\n",
    "        y_train_split, y_val = y_train[:train_size], y_train[train_size:]\n",
    "        \n",
    "        # 训练模型\n",
    "        print(\"训练XGBoost模型...\")\n",
    "        model, training_time = train_model(X_train_split, y_train_split, n_estimators=50, learning_rate=0.01, max_depth=1)\n",
    "        print(f\"训练完成，耗时: {training_time:.2f} 秒\")\n",
    "        \n",
    "        # 使用验证集找到最佳阈值\n",
    "        print(\"在验证集上寻找最佳阈值...\")\n",
    "        best_result = find_optimal_threshold(model, X_val, y_val)\n",
    "        best_threshold = best_result[0]\n",
    "        \n",
    "        # 使用测试集进行最终评估\n",
    "        print(\"在测试集上进行最终评估...\")\n",
    "        test_accuracy, test_precision, test_recall, test_f1, test_conf_matrix = evaluate_model(\n",
    "            model, X_test, y_test, threshold=best_threshold\n",
    "        )\n",
    "\n",
    "        # 在测试集上评估未知覆盖率和误报率\n",
    "        test_unknown_coverage = evaluate_unknown_coverage(model, unknown, threshold=best_threshold)\n",
    "        test_self_data = test_data[test_data['label'] == 0]\n",
    "        test_fpr = evaluate_false_positive_rate(model, test_self_data, threshold=best_threshold)\n",
    "        \n",
    "        with open(f'{unknown_type}_results.txt', 'w') as f:\n",
    "            f.write(f\"Best Threshold: {best_threshold:.6f}\\n\")\n",
    "            f.write(\"\\nTest Set Results:\\n\")\n",
    "            f.write(f\"Accuracy: {test_accuracy:.4f}\\n\")\n",
    "            f.write(f\"Precision: {test_precision:.4f}\\n\")\n",
    "            f.write(f\"Recall: {test_recall:.4f}\\n\")\n",
    "            f.write(f\"F1 Score: {test_f1:.4f}\\n\")\n",
    "            f.write(f\"Unknown Coverage: {test_unknown_coverage:.4f}\\n\")\n",
    "            f.write(f\"False Positive Rate: {test_fpr:.4f}\\n\")\n",
    "            f.write(f\"Confusion Matrix: {test_conf_matrix}\\n\")\n",
    "            \n",
    "if __name__ == \"__main__\":\n",
    "    main()"
   ]
  }
 ],
 "metadata": {
  "kernelspec": {
   "display_name": "llm",
   "language": "python",
   "name": "python3"
  },
  "language_info": {
   "codemirror_mode": {
    "name": "ipython",
    "version": 3
   },
   "file_extension": ".py",
   "mimetype": "text/x-python",
   "name": "python",
   "nbconvert_exporter": "python",
   "pygments_lexer": "ipython3",
   "version": "3.12.7"
  }
 },
 "nbformat": 4,
 "nbformat_minor": 2
}
