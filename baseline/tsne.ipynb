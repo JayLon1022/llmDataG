{
 "cells": [
  {
   "cell_type": "code",
   "execution_count": null,
   "metadata": {},
   "outputs": [],
   "source": [
    "import numpy as np\n",
    "import pandas as pd\n",
    "import matplotlib.pyplot as plt\n",
    "from sklearn.manifold import TSNE\n",
    "from mpl_toolkits.mplot3d import Axes3D\n",
    "\n",
    "path = 'UNSW_NB15'\n",
    "train_self = pd.read_csv(path + '/check/self/train_self.csv')\n",
    "train_nonself = pd.read_csv(path + '/check/nonself/train_nonself.csv')\n",
    "test_self = pd.read_csv(path + '/check/self/test_self.csv')\n",
    "test_nonself = pd.read_csv(path + '/check/nonself/test_nonself.csv')\n",
    "\n",
    "self = pd.concat([train_self, test_self], axis=0)\n",
    "self = self.sample(n=2000, random_state=42)\n",
    "self = self.fillna(self.mean())\n",
    "nonself = pd.concat([train_nonself, test_nonself], axis=0)\n",
    "nonself = nonself.sample(n=2000, random_state=42)\n",
    "nonself = nonself.fillna(nonself.mean())\n",
    "\n",
    "# 合并数据并添加标签\n",
    "data = pd.concat([self, nonself], axis=0)\n",
    "labels = np.array([0] * len(self) + [1] * len(nonself))\n",
    "\n",
    "# 使用t-SNE进行降维到3维\n",
    "tsne = TSNE(n_components=3, random_state=42)\n",
    "data_tsne = tsne.fit_transform(data)\n",
    "\n",
    "# 绘制3D散点图\n",
    "fig = plt.figure(figsize=(10, 8))\n",
    "ax = fig.add_subplot(111, projection='3d')\n",
    "scatter = ax.scatter(data_tsne[:, 0], data_tsne[:, 1], data_tsne[:, 2], \n",
    "                    c=labels, cmap='coolwarm', alpha=0.6)\n",
    "plt.colorbar(scatter)\n",
    "plt.title(f'{path} t-SNE Visualization: Self vs Non-self Data Distribution (3D)')\n",
    "ax.set_xlabel('t-SNE Dimension 1')\n",
    "ax.set_ylabel('t-SNE Dimension 2')\n",
    "ax.set_zlabel('t-SNE Dimension 3')\n",
    "ax.legend(['Self', 'Non-self'])\n",
    "plt.savefig(path + '/tsne_3d.png')\n",
    "plt.show()"
   ]
  }
 ],
 "metadata": {
  "kernelspec": {
   "display_name": "pytorch",
   "language": "python",
   "name": "python3"
  },
  "language_info": {
   "codemirror_mode": {
    "name": "ipython",
    "version": 3
   },
   "file_extension": ".py",
   "mimetype": "text/x-python",
   "name": "python",
   "nbconvert_exporter": "python",
   "pygments_lexer": "ipython3",
   "version": "3.12.7"
  }
 },
 "nbformat": 4,
 "nbformat_minor": 2
}
