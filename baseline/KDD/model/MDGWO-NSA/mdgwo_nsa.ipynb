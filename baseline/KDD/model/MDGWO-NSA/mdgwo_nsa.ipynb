{
 "cells": [
  {
   "cell_type": "code",
   "execution_count": 1,
   "metadata": {},
   "outputs": [
    {
     "name": "stdout",
     "output_type": "stream",
     "text": [
      "当前自样本数量: 10\n"
     ]
    },
    {
     "name": "stderr",
     "output_type": "stream",
     "text": [
      "d:\\ProgramData\\anaconda3\\envs\\pytorch\\Lib\\site-packages\\numpy\\lib\\function_base.py:2897: RuntimeWarning: invalid value encountered in divide\n",
      "  c /= stddev[:, None]\n",
      "d:\\ProgramData\\anaconda3\\envs\\pytorch\\Lib\\site-packages\\numpy\\lib\\function_base.py:2898: RuntimeWarning: invalid value encountered in divide\n",
      "  c /= stddev[None, :]\n",
      "d:\\ProgramData\\anaconda3\\envs\\pytorch\\Lib\\site-packages\\sklearn\\cluster\\_kmeans.py:1429: UserWarning: KMeans is known to have a memory leak on Windows with MKL, when there are less chunks than available threads. You can avoid it by setting the environment variable OMP_NUM_THREADS=1.\n",
      "  warnings.warn(\n"
     ]
    },
    {
     "name": "stdout",
     "output_type": "stream",
     "text": [
      "当前自样本数量: 20\n"
     ]
    },
    {
     "name": "stderr",
     "output_type": "stream",
     "text": [
      "d:\\ProgramData\\anaconda3\\envs\\pytorch\\Lib\\site-packages\\numpy\\lib\\function_base.py:2897: RuntimeWarning: invalid value encountered in divide\n",
      "  c /= stddev[:, None]\n",
      "d:\\ProgramData\\anaconda3\\envs\\pytorch\\Lib\\site-packages\\numpy\\lib\\function_base.py:2898: RuntimeWarning: invalid value encountered in divide\n",
      "  c /= stddev[None, :]\n",
      "d:\\ProgramData\\anaconda3\\envs\\pytorch\\Lib\\site-packages\\sklearn\\cluster\\_kmeans.py:1429: UserWarning: KMeans is known to have a memory leak on Windows with MKL, when there are less chunks than available threads. You can avoid it by setting the environment variable OMP_NUM_THREADS=1.\n",
      "  warnings.warn(\n"
     ]
    },
    {
     "name": "stdout",
     "output_type": "stream",
     "text": [
      "当前自样本数量: 30\n"
     ]
    },
    {
     "name": "stderr",
     "output_type": "stream",
     "text": [
      "d:\\ProgramData\\anaconda3\\envs\\pytorch\\Lib\\site-packages\\numpy\\lib\\function_base.py:2897: RuntimeWarning: invalid value encountered in divide\n",
      "  c /= stddev[:, None]\n",
      "d:\\ProgramData\\anaconda3\\envs\\pytorch\\Lib\\site-packages\\numpy\\lib\\function_base.py:2898: RuntimeWarning: invalid value encountered in divide\n",
      "  c /= stddev[None, :]\n",
      "d:\\ProgramData\\anaconda3\\envs\\pytorch\\Lib\\site-packages\\sklearn\\cluster\\_kmeans.py:1429: UserWarning: KMeans is known to have a memory leak on Windows with MKL, when there are less chunks than available threads. You can avoid it by setting the environment variable OMP_NUM_THREADS=1.\n",
      "  warnings.warn(\n"
     ]
    },
    {
     "name": "stdout",
     "output_type": "stream",
     "text": [
      "当前自样本数量: 40\n"
     ]
    },
    {
     "name": "stderr",
     "output_type": "stream",
     "text": [
      "d:\\ProgramData\\anaconda3\\envs\\pytorch\\Lib\\site-packages\\numpy\\lib\\function_base.py:2897: RuntimeWarning: invalid value encountered in divide\n",
      "  c /= stddev[:, None]\n",
      "d:\\ProgramData\\anaconda3\\envs\\pytorch\\Lib\\site-packages\\numpy\\lib\\function_base.py:2898: RuntimeWarning: invalid value encountered in divide\n",
      "  c /= stddev[None, :]\n",
      "d:\\ProgramData\\anaconda3\\envs\\pytorch\\Lib\\site-packages\\sklearn\\cluster\\_kmeans.py:1429: UserWarning: KMeans is known to have a memory leak on Windows with MKL, when there are less chunks than available threads. You can avoid it by setting the environment variable OMP_NUM_THREADS=1.\n",
      "  warnings.warn(\n"
     ]
    },
    {
     "name": "stdout",
     "output_type": "stream",
     "text": [
      "当前自样本数量: 50\n"
     ]
    },
    {
     "name": "stderr",
     "output_type": "stream",
     "text": [
      "d:\\ProgramData\\anaconda3\\envs\\pytorch\\Lib\\site-packages\\numpy\\lib\\function_base.py:2897: RuntimeWarning: invalid value encountered in divide\n",
      "  c /= stddev[:, None]\n",
      "d:\\ProgramData\\anaconda3\\envs\\pytorch\\Lib\\site-packages\\numpy\\lib\\function_base.py:2898: RuntimeWarning: invalid value encountered in divide\n",
      "  c /= stddev[None, :]\n",
      "d:\\ProgramData\\anaconda3\\envs\\pytorch\\Lib\\site-packages\\sklearn\\cluster\\_kmeans.py:1429: UserWarning: KMeans is known to have a memory leak on Windows with MKL, when there are less chunks than available threads. You can avoid it by setting the environment variable OMP_NUM_THREADS=1.\n",
      "  warnings.warn(\n"
     ]
    },
    {
     "name": "stdout",
     "output_type": "stream",
     "text": [
      "当前自样本数量: 60\n"
     ]
    },
    {
     "name": "stderr",
     "output_type": "stream",
     "text": [
      "d:\\ProgramData\\anaconda3\\envs\\pytorch\\Lib\\site-packages\\numpy\\lib\\function_base.py:2897: RuntimeWarning: invalid value encountered in divide\n",
      "  c /= stddev[:, None]\n",
      "d:\\ProgramData\\anaconda3\\envs\\pytorch\\Lib\\site-packages\\numpy\\lib\\function_base.py:2898: RuntimeWarning: invalid value encountered in divide\n",
      "  c /= stddev[None, :]\n",
      "d:\\ProgramData\\anaconda3\\envs\\pytorch\\Lib\\site-packages\\sklearn\\cluster\\_kmeans.py:1429: UserWarning: KMeans is known to have a memory leak on Windows with MKL, when there are less chunks than available threads. You can avoid it by setting the environment variable OMP_NUM_THREADS=1.\n",
      "  warnings.warn(\n"
     ]
    },
    {
     "name": "stdout",
     "output_type": "stream",
     "text": [
      "当前自样本数量: 70\n"
     ]
    },
    {
     "name": "stderr",
     "output_type": "stream",
     "text": [
      "d:\\ProgramData\\anaconda3\\envs\\pytorch\\Lib\\site-packages\\numpy\\lib\\function_base.py:2897: RuntimeWarning: invalid value encountered in divide\n",
      "  c /= stddev[:, None]\n",
      "d:\\ProgramData\\anaconda3\\envs\\pytorch\\Lib\\site-packages\\numpy\\lib\\function_base.py:2898: RuntimeWarning: invalid value encountered in divide\n",
      "  c /= stddev[None, :]\n",
      "d:\\ProgramData\\anaconda3\\envs\\pytorch\\Lib\\site-packages\\sklearn\\cluster\\_kmeans.py:1429: UserWarning: KMeans is known to have a memory leak on Windows with MKL, when there are less chunks than available threads. You can avoid it by setting the environment variable OMP_NUM_THREADS=1.\n",
      "  warnings.warn(\n"
     ]
    },
    {
     "name": "stdout",
     "output_type": "stream",
     "text": [
      "当前自样本数量: 80\n"
     ]
    },
    {
     "name": "stderr",
     "output_type": "stream",
     "text": [
      "d:\\ProgramData\\anaconda3\\envs\\pytorch\\Lib\\site-packages\\numpy\\lib\\function_base.py:2897: RuntimeWarning: invalid value encountered in divide\n",
      "  c /= stddev[:, None]\n",
      "d:\\ProgramData\\anaconda3\\envs\\pytorch\\Lib\\site-packages\\numpy\\lib\\function_base.py:2898: RuntimeWarning: invalid value encountered in divide\n",
      "  c /= stddev[None, :]\n",
      "d:\\ProgramData\\anaconda3\\envs\\pytorch\\Lib\\site-packages\\sklearn\\cluster\\_kmeans.py:1429: UserWarning: KMeans is known to have a memory leak on Windows with MKL, when there are less chunks than available threads. You can avoid it by setting the environment variable OMP_NUM_THREADS=1.\n",
      "  warnings.warn(\n"
     ]
    },
    {
     "name": "stdout",
     "output_type": "stream",
     "text": [
      "当前自样本数量: 90\n"
     ]
    },
    {
     "name": "stderr",
     "output_type": "stream",
     "text": [
      "d:\\ProgramData\\anaconda3\\envs\\pytorch\\Lib\\site-packages\\numpy\\lib\\function_base.py:2897: RuntimeWarning: invalid value encountered in divide\n",
      "  c /= stddev[:, None]\n",
      "d:\\ProgramData\\anaconda3\\envs\\pytorch\\Lib\\site-packages\\numpy\\lib\\function_base.py:2898: RuntimeWarning: invalid value encountered in divide\n",
      "  c /= stddev[None, :]\n",
      "d:\\ProgramData\\anaconda3\\envs\\pytorch\\Lib\\site-packages\\sklearn\\cluster\\_kmeans.py:1429: UserWarning: KMeans is known to have a memory leak on Windows with MKL, when there are less chunks than available threads. You can avoid it by setting the environment variable OMP_NUM_THREADS=1.\n",
      "  warnings.warn(\n"
     ]
    },
    {
     "name": "stdout",
     "output_type": "stream",
     "text": [
      "当前自样本数量: 10\n"
     ]
    },
    {
     "name": "stderr",
     "output_type": "stream",
     "text": [
      "d:\\ProgramData\\anaconda3\\envs\\pytorch\\Lib\\site-packages\\numpy\\lib\\function_base.py:2897: RuntimeWarning: invalid value encountered in divide\n",
      "  c /= stddev[:, None]\n",
      "d:\\ProgramData\\anaconda3\\envs\\pytorch\\Lib\\site-packages\\numpy\\lib\\function_base.py:2898: RuntimeWarning: invalid value encountered in divide\n",
      "  c /= stddev[None, :]\n",
      "d:\\ProgramData\\anaconda3\\envs\\pytorch\\Lib\\site-packages\\sklearn\\cluster\\_kmeans.py:1429: UserWarning: KMeans is known to have a memory leak on Windows with MKL, when there are less chunks than available threads. You can avoid it by setting the environment variable OMP_NUM_THREADS=1.\n",
      "  warnings.warn(\n"
     ]
    },
    {
     "name": "stdout",
     "output_type": "stream",
     "text": [
      "当前自样本数量: 20\n"
     ]
    },
    {
     "name": "stderr",
     "output_type": "stream",
     "text": [
      "d:\\ProgramData\\anaconda3\\envs\\pytorch\\Lib\\site-packages\\numpy\\lib\\function_base.py:2897: RuntimeWarning: invalid value encountered in divide\n",
      "  c /= stddev[:, None]\n",
      "d:\\ProgramData\\anaconda3\\envs\\pytorch\\Lib\\site-packages\\numpy\\lib\\function_base.py:2898: RuntimeWarning: invalid value encountered in divide\n",
      "  c /= stddev[None, :]\n",
      "d:\\ProgramData\\anaconda3\\envs\\pytorch\\Lib\\site-packages\\sklearn\\cluster\\_kmeans.py:1429: UserWarning: KMeans is known to have a memory leak on Windows with MKL, when there are less chunks than available threads. You can avoid it by setting the environment variable OMP_NUM_THREADS=1.\n",
      "  warnings.warn(\n"
     ]
    },
    {
     "name": "stdout",
     "output_type": "stream",
     "text": [
      "当前自样本数量: 30\n"
     ]
    },
    {
     "name": "stderr",
     "output_type": "stream",
     "text": [
      "d:\\ProgramData\\anaconda3\\envs\\pytorch\\Lib\\site-packages\\numpy\\lib\\function_base.py:2897: RuntimeWarning: invalid value encountered in divide\n",
      "  c /= stddev[:, None]\n",
      "d:\\ProgramData\\anaconda3\\envs\\pytorch\\Lib\\site-packages\\numpy\\lib\\function_base.py:2898: RuntimeWarning: invalid value encountered in divide\n",
      "  c /= stddev[None, :]\n",
      "d:\\ProgramData\\anaconda3\\envs\\pytorch\\Lib\\site-packages\\sklearn\\cluster\\_kmeans.py:1429: UserWarning: KMeans is known to have a memory leak on Windows with MKL, when there are less chunks than available threads. You can avoid it by setting the environment variable OMP_NUM_THREADS=1.\n",
      "  warnings.warn(\n"
     ]
    },
    {
     "name": "stdout",
     "output_type": "stream",
     "text": [
      "当前自样本数量: 40\n"
     ]
    },
    {
     "name": "stderr",
     "output_type": "stream",
     "text": [
      "d:\\ProgramData\\anaconda3\\envs\\pytorch\\Lib\\site-packages\\numpy\\lib\\function_base.py:2897: RuntimeWarning: invalid value encountered in divide\n",
      "  c /= stddev[:, None]\n",
      "d:\\ProgramData\\anaconda3\\envs\\pytorch\\Lib\\site-packages\\numpy\\lib\\function_base.py:2898: RuntimeWarning: invalid value encountered in divide\n",
      "  c /= stddev[None, :]\n",
      "d:\\ProgramData\\anaconda3\\envs\\pytorch\\Lib\\site-packages\\sklearn\\cluster\\_kmeans.py:1429: UserWarning: KMeans is known to have a memory leak on Windows with MKL, when there are less chunks than available threads. You can avoid it by setting the environment variable OMP_NUM_THREADS=1.\n",
      "  warnings.warn(\n"
     ]
    },
    {
     "name": "stdout",
     "output_type": "stream",
     "text": [
      "当前自样本数量: 50\n"
     ]
    },
    {
     "name": "stderr",
     "output_type": "stream",
     "text": [
      "d:\\ProgramData\\anaconda3\\envs\\pytorch\\Lib\\site-packages\\numpy\\lib\\function_base.py:2897: RuntimeWarning: invalid value encountered in divide\n",
      "  c /= stddev[:, None]\n",
      "d:\\ProgramData\\anaconda3\\envs\\pytorch\\Lib\\site-packages\\numpy\\lib\\function_base.py:2898: RuntimeWarning: invalid value encountered in divide\n",
      "  c /= stddev[None, :]\n",
      "d:\\ProgramData\\anaconda3\\envs\\pytorch\\Lib\\site-packages\\sklearn\\cluster\\_kmeans.py:1429: UserWarning: KMeans is known to have a memory leak on Windows with MKL, when there are less chunks than available threads. You can avoid it by setting the environment variable OMP_NUM_THREADS=1.\n",
      "  warnings.warn(\n"
     ]
    },
    {
     "name": "stdout",
     "output_type": "stream",
     "text": [
      "当前自样本数量: 60\n"
     ]
    },
    {
     "name": "stderr",
     "output_type": "stream",
     "text": [
      "d:\\ProgramData\\anaconda3\\envs\\pytorch\\Lib\\site-packages\\numpy\\lib\\function_base.py:2897: RuntimeWarning: invalid value encountered in divide\n",
      "  c /= stddev[:, None]\n",
      "d:\\ProgramData\\anaconda3\\envs\\pytorch\\Lib\\site-packages\\numpy\\lib\\function_base.py:2898: RuntimeWarning: invalid value encountered in divide\n",
      "  c /= stddev[None, :]\n",
      "d:\\ProgramData\\anaconda3\\envs\\pytorch\\Lib\\site-packages\\sklearn\\cluster\\_kmeans.py:1429: UserWarning: KMeans is known to have a memory leak on Windows with MKL, when there are less chunks than available threads. You can avoid it by setting the environment variable OMP_NUM_THREADS=1.\n",
      "  warnings.warn(\n"
     ]
    },
    {
     "name": "stdout",
     "output_type": "stream",
     "text": [
      "当前自样本数量: 70\n"
     ]
    },
    {
     "name": "stderr",
     "output_type": "stream",
     "text": [
      "d:\\ProgramData\\anaconda3\\envs\\pytorch\\Lib\\site-packages\\numpy\\lib\\function_base.py:2897: RuntimeWarning: invalid value encountered in divide\n",
      "  c /= stddev[:, None]\n",
      "d:\\ProgramData\\anaconda3\\envs\\pytorch\\Lib\\site-packages\\numpy\\lib\\function_base.py:2898: RuntimeWarning: invalid value encountered in divide\n",
      "  c /= stddev[None, :]\n",
      "d:\\ProgramData\\anaconda3\\envs\\pytorch\\Lib\\site-packages\\sklearn\\cluster\\_kmeans.py:1429: UserWarning: KMeans is known to have a memory leak on Windows with MKL, when there are less chunks than available threads. You can avoid it by setting the environment variable OMP_NUM_THREADS=1.\n",
      "  warnings.warn(\n"
     ]
    },
    {
     "name": "stdout",
     "output_type": "stream",
     "text": [
      "当前自样本数量: 80\n"
     ]
    },
    {
     "name": "stderr",
     "output_type": "stream",
     "text": [
      "d:\\ProgramData\\anaconda3\\envs\\pytorch\\Lib\\site-packages\\numpy\\lib\\function_base.py:2897: RuntimeWarning: invalid value encountered in divide\n",
      "  c /= stddev[:, None]\n",
      "d:\\ProgramData\\anaconda3\\envs\\pytorch\\Lib\\site-packages\\numpy\\lib\\function_base.py:2898: RuntimeWarning: invalid value encountered in divide\n",
      "  c /= stddev[None, :]\n",
      "d:\\ProgramData\\anaconda3\\envs\\pytorch\\Lib\\site-packages\\sklearn\\cluster\\_kmeans.py:1429: UserWarning: KMeans is known to have a memory leak on Windows with MKL, when there are less chunks than available threads. You can avoid it by setting the environment variable OMP_NUM_THREADS=1.\n",
      "  warnings.warn(\n"
     ]
    },
    {
     "name": "stdout",
     "output_type": "stream",
     "text": [
      "当前自样本数量: 90\n"
     ]
    },
    {
     "name": "stderr",
     "output_type": "stream",
     "text": [
      "d:\\ProgramData\\anaconda3\\envs\\pytorch\\Lib\\site-packages\\numpy\\lib\\function_base.py:2897: RuntimeWarning: invalid value encountered in divide\n",
      "  c /= stddev[:, None]\n",
      "d:\\ProgramData\\anaconda3\\envs\\pytorch\\Lib\\site-packages\\numpy\\lib\\function_base.py:2898: RuntimeWarning: invalid value encountered in divide\n",
      "  c /= stddev[None, :]\n",
      "d:\\ProgramData\\anaconda3\\envs\\pytorch\\Lib\\site-packages\\sklearn\\cluster\\_kmeans.py:1429: UserWarning: KMeans is known to have a memory leak on Windows with MKL, when there are less chunks than available threads. You can avoid it by setting the environment variable OMP_NUM_THREADS=1.\n",
      "  warnings.warn(\n"
     ]
    },
    {
     "name": "stdout",
     "output_type": "stream",
     "text": [
      "当前自样本数量: 10\n"
     ]
    },
    {
     "name": "stderr",
     "output_type": "stream",
     "text": [
      "d:\\ProgramData\\anaconda3\\envs\\pytorch\\Lib\\site-packages\\numpy\\lib\\function_base.py:2897: RuntimeWarning: invalid value encountered in divide\n",
      "  c /= stddev[:, None]\n",
      "d:\\ProgramData\\anaconda3\\envs\\pytorch\\Lib\\site-packages\\numpy\\lib\\function_base.py:2898: RuntimeWarning: invalid value encountered in divide\n",
      "  c /= stddev[None, :]\n",
      "d:\\ProgramData\\anaconda3\\envs\\pytorch\\Lib\\site-packages\\sklearn\\cluster\\_kmeans.py:1429: UserWarning: KMeans is known to have a memory leak on Windows with MKL, when there are less chunks than available threads. You can avoid it by setting the environment variable OMP_NUM_THREADS=1.\n",
      "  warnings.warn(\n"
     ]
    },
    {
     "name": "stdout",
     "output_type": "stream",
     "text": [
      "当前自样本数量: 20\n"
     ]
    },
    {
     "name": "stderr",
     "output_type": "stream",
     "text": [
      "d:\\ProgramData\\anaconda3\\envs\\pytorch\\Lib\\site-packages\\numpy\\lib\\function_base.py:2897: RuntimeWarning: invalid value encountered in divide\n",
      "  c /= stddev[:, None]\n",
      "d:\\ProgramData\\anaconda3\\envs\\pytorch\\Lib\\site-packages\\numpy\\lib\\function_base.py:2898: RuntimeWarning: invalid value encountered in divide\n",
      "  c /= stddev[None, :]\n",
      "d:\\ProgramData\\anaconda3\\envs\\pytorch\\Lib\\site-packages\\sklearn\\cluster\\_kmeans.py:1429: UserWarning: KMeans is known to have a memory leak on Windows with MKL, when there are less chunks than available threads. You can avoid it by setting the environment variable OMP_NUM_THREADS=1.\n",
      "  warnings.warn(\n"
     ]
    },
    {
     "name": "stdout",
     "output_type": "stream",
     "text": [
      "当前自样本数量: 30\n"
     ]
    },
    {
     "name": "stderr",
     "output_type": "stream",
     "text": [
      "d:\\ProgramData\\anaconda3\\envs\\pytorch\\Lib\\site-packages\\numpy\\lib\\function_base.py:2897: RuntimeWarning: invalid value encountered in divide\n",
      "  c /= stddev[:, None]\n",
      "d:\\ProgramData\\anaconda3\\envs\\pytorch\\Lib\\site-packages\\numpy\\lib\\function_base.py:2898: RuntimeWarning: invalid value encountered in divide\n",
      "  c /= stddev[None, :]\n",
      "d:\\ProgramData\\anaconda3\\envs\\pytorch\\Lib\\site-packages\\sklearn\\cluster\\_kmeans.py:1429: UserWarning: KMeans is known to have a memory leak on Windows with MKL, when there are less chunks than available threads. You can avoid it by setting the environment variable OMP_NUM_THREADS=1.\n",
      "  warnings.warn(\n"
     ]
    },
    {
     "name": "stdout",
     "output_type": "stream",
     "text": [
      "当前自样本数量: 40\n"
     ]
    },
    {
     "name": "stderr",
     "output_type": "stream",
     "text": [
      "d:\\ProgramData\\anaconda3\\envs\\pytorch\\Lib\\site-packages\\numpy\\lib\\function_base.py:2897: RuntimeWarning: invalid value encountered in divide\n",
      "  c /= stddev[:, None]\n",
      "d:\\ProgramData\\anaconda3\\envs\\pytorch\\Lib\\site-packages\\numpy\\lib\\function_base.py:2898: RuntimeWarning: invalid value encountered in divide\n",
      "  c /= stddev[None, :]\n",
      "d:\\ProgramData\\anaconda3\\envs\\pytorch\\Lib\\site-packages\\sklearn\\cluster\\_kmeans.py:1429: UserWarning: KMeans is known to have a memory leak on Windows with MKL, when there are less chunks than available threads. You can avoid it by setting the environment variable OMP_NUM_THREADS=1.\n",
      "  warnings.warn(\n"
     ]
    },
    {
     "name": "stdout",
     "output_type": "stream",
     "text": [
      "当前自样本数量: 50\n"
     ]
    },
    {
     "name": "stderr",
     "output_type": "stream",
     "text": [
      "d:\\ProgramData\\anaconda3\\envs\\pytorch\\Lib\\site-packages\\numpy\\lib\\function_base.py:2897: RuntimeWarning: invalid value encountered in divide\n",
      "  c /= stddev[:, None]\n",
      "d:\\ProgramData\\anaconda3\\envs\\pytorch\\Lib\\site-packages\\numpy\\lib\\function_base.py:2898: RuntimeWarning: invalid value encountered in divide\n",
      "  c /= stddev[None, :]\n",
      "d:\\ProgramData\\anaconda3\\envs\\pytorch\\Lib\\site-packages\\sklearn\\cluster\\_kmeans.py:1429: UserWarning: KMeans is known to have a memory leak on Windows with MKL, when there are less chunks than available threads. You can avoid it by setting the environment variable OMP_NUM_THREADS=1.\n",
      "  warnings.warn(\n"
     ]
    },
    {
     "name": "stdout",
     "output_type": "stream",
     "text": [
      "当前自样本数量: 60\n"
     ]
    },
    {
     "name": "stderr",
     "output_type": "stream",
     "text": [
      "d:\\ProgramData\\anaconda3\\envs\\pytorch\\Lib\\site-packages\\numpy\\lib\\function_base.py:2897: RuntimeWarning: invalid value encountered in divide\n",
      "  c /= stddev[:, None]\n",
      "d:\\ProgramData\\anaconda3\\envs\\pytorch\\Lib\\site-packages\\numpy\\lib\\function_base.py:2898: RuntimeWarning: invalid value encountered in divide\n",
      "  c /= stddev[None, :]\n",
      "d:\\ProgramData\\anaconda3\\envs\\pytorch\\Lib\\site-packages\\sklearn\\cluster\\_kmeans.py:1429: UserWarning: KMeans is known to have a memory leak on Windows with MKL, when there are less chunks than available threads. You can avoid it by setting the environment variable OMP_NUM_THREADS=1.\n",
      "  warnings.warn(\n"
     ]
    },
    {
     "name": "stdout",
     "output_type": "stream",
     "text": [
      "当前自样本数量: 70\n"
     ]
    },
    {
     "name": "stderr",
     "output_type": "stream",
     "text": [
      "d:\\ProgramData\\anaconda3\\envs\\pytorch\\Lib\\site-packages\\numpy\\lib\\function_base.py:2897: RuntimeWarning: invalid value encountered in divide\n",
      "  c /= stddev[:, None]\n",
      "d:\\ProgramData\\anaconda3\\envs\\pytorch\\Lib\\site-packages\\numpy\\lib\\function_base.py:2898: RuntimeWarning: invalid value encountered in divide\n",
      "  c /= stddev[None, :]\n",
      "d:\\ProgramData\\anaconda3\\envs\\pytorch\\Lib\\site-packages\\sklearn\\cluster\\_kmeans.py:1429: UserWarning: KMeans is known to have a memory leak on Windows with MKL, when there are less chunks than available threads. You can avoid it by setting the environment variable OMP_NUM_THREADS=1.\n",
      "  warnings.warn(\n"
     ]
    },
    {
     "name": "stdout",
     "output_type": "stream",
     "text": [
      "当前自样本数量: 80\n"
     ]
    },
    {
     "name": "stderr",
     "output_type": "stream",
     "text": [
      "d:\\ProgramData\\anaconda3\\envs\\pytorch\\Lib\\site-packages\\numpy\\lib\\function_base.py:2897: RuntimeWarning: invalid value encountered in divide\n",
      "  c /= stddev[:, None]\n",
      "d:\\ProgramData\\anaconda3\\envs\\pytorch\\Lib\\site-packages\\numpy\\lib\\function_base.py:2898: RuntimeWarning: invalid value encountered in divide\n",
      "  c /= stddev[None, :]\n",
      "d:\\ProgramData\\anaconda3\\envs\\pytorch\\Lib\\site-packages\\sklearn\\cluster\\_kmeans.py:1429: UserWarning: KMeans is known to have a memory leak on Windows with MKL, when there are less chunks than available threads. You can avoid it by setting the environment variable OMP_NUM_THREADS=1.\n",
      "  warnings.warn(\n"
     ]
    },
    {
     "name": "stdout",
     "output_type": "stream",
     "text": [
      "当前自样本数量: 90\n"
     ]
    },
    {
     "name": "stderr",
     "output_type": "stream",
     "text": [
      "d:\\ProgramData\\anaconda3\\envs\\pytorch\\Lib\\site-packages\\numpy\\lib\\function_base.py:2897: RuntimeWarning: invalid value encountered in divide\n",
      "  c /= stddev[:, None]\n",
      "d:\\ProgramData\\anaconda3\\envs\\pytorch\\Lib\\site-packages\\numpy\\lib\\function_base.py:2898: RuntimeWarning: invalid value encountered in divide\n",
      "  c /= stddev[None, :]\n",
      "d:\\ProgramData\\anaconda3\\envs\\pytorch\\Lib\\site-packages\\sklearn\\cluster\\_kmeans.py:1429: UserWarning: KMeans is known to have a memory leak on Windows with MKL, when there are less chunks than available threads. You can avoid it by setting the environment variable OMP_NUM_THREADS=1.\n",
      "  warnings.warn(\n"
     ]
    },
    {
     "name": "stdout",
     "output_type": "stream",
     "text": [
      "当前自样本数量: 10\n"
     ]
    },
    {
     "name": "stderr",
     "output_type": "stream",
     "text": [
      "d:\\ProgramData\\anaconda3\\envs\\pytorch\\Lib\\site-packages\\numpy\\lib\\function_base.py:2897: RuntimeWarning: invalid value encountered in divide\n",
      "  c /= stddev[:, None]\n",
      "d:\\ProgramData\\anaconda3\\envs\\pytorch\\Lib\\site-packages\\numpy\\lib\\function_base.py:2898: RuntimeWarning: invalid value encountered in divide\n",
      "  c /= stddev[None, :]\n",
      "d:\\ProgramData\\anaconda3\\envs\\pytorch\\Lib\\site-packages\\sklearn\\cluster\\_kmeans.py:1429: UserWarning: KMeans is known to have a memory leak on Windows with MKL, when there are less chunks than available threads. You can avoid it by setting the environment variable OMP_NUM_THREADS=1.\n",
      "  warnings.warn(\n"
     ]
    },
    {
     "name": "stdout",
     "output_type": "stream",
     "text": [
      "当前自样本数量: 20\n"
     ]
    },
    {
     "name": "stderr",
     "output_type": "stream",
     "text": [
      "d:\\ProgramData\\anaconda3\\envs\\pytorch\\Lib\\site-packages\\numpy\\lib\\function_base.py:2897: RuntimeWarning: invalid value encountered in divide\n",
      "  c /= stddev[:, None]\n",
      "d:\\ProgramData\\anaconda3\\envs\\pytorch\\Lib\\site-packages\\numpy\\lib\\function_base.py:2898: RuntimeWarning: invalid value encountered in divide\n",
      "  c /= stddev[None, :]\n",
      "d:\\ProgramData\\anaconda3\\envs\\pytorch\\Lib\\site-packages\\sklearn\\cluster\\_kmeans.py:1429: UserWarning: KMeans is known to have a memory leak on Windows with MKL, when there are less chunks than available threads. You can avoid it by setting the environment variable OMP_NUM_THREADS=1.\n",
      "  warnings.warn(\n"
     ]
    },
    {
     "name": "stdout",
     "output_type": "stream",
     "text": [
      "当前自样本数量: 30\n"
     ]
    },
    {
     "name": "stderr",
     "output_type": "stream",
     "text": [
      "d:\\ProgramData\\anaconda3\\envs\\pytorch\\Lib\\site-packages\\numpy\\lib\\function_base.py:2897: RuntimeWarning: invalid value encountered in divide\n",
      "  c /= stddev[:, None]\n",
      "d:\\ProgramData\\anaconda3\\envs\\pytorch\\Lib\\site-packages\\numpy\\lib\\function_base.py:2898: RuntimeWarning: invalid value encountered in divide\n",
      "  c /= stddev[None, :]\n",
      "d:\\ProgramData\\anaconda3\\envs\\pytorch\\Lib\\site-packages\\sklearn\\cluster\\_kmeans.py:1429: UserWarning: KMeans is known to have a memory leak on Windows with MKL, when there are less chunks than available threads. You can avoid it by setting the environment variable OMP_NUM_THREADS=1.\n",
      "  warnings.warn(\n"
     ]
    },
    {
     "name": "stdout",
     "output_type": "stream",
     "text": [
      "当前自样本数量: 40\n"
     ]
    },
    {
     "name": "stderr",
     "output_type": "stream",
     "text": [
      "d:\\ProgramData\\anaconda3\\envs\\pytorch\\Lib\\site-packages\\numpy\\lib\\function_base.py:2897: RuntimeWarning: invalid value encountered in divide\n",
      "  c /= stddev[:, None]\n",
      "d:\\ProgramData\\anaconda3\\envs\\pytorch\\Lib\\site-packages\\numpy\\lib\\function_base.py:2898: RuntimeWarning: invalid value encountered in divide\n",
      "  c /= stddev[None, :]\n",
      "d:\\ProgramData\\anaconda3\\envs\\pytorch\\Lib\\site-packages\\sklearn\\cluster\\_kmeans.py:1429: UserWarning: KMeans is known to have a memory leak on Windows with MKL, when there are less chunks than available threads. You can avoid it by setting the environment variable OMP_NUM_THREADS=1.\n",
      "  warnings.warn(\n"
     ]
    },
    {
     "name": "stdout",
     "output_type": "stream",
     "text": [
      "当前自样本数量: 50\n"
     ]
    },
    {
     "name": "stderr",
     "output_type": "stream",
     "text": [
      "d:\\ProgramData\\anaconda3\\envs\\pytorch\\Lib\\site-packages\\numpy\\lib\\function_base.py:2897: RuntimeWarning: invalid value encountered in divide\n",
      "  c /= stddev[:, None]\n",
      "d:\\ProgramData\\anaconda3\\envs\\pytorch\\Lib\\site-packages\\numpy\\lib\\function_base.py:2898: RuntimeWarning: invalid value encountered in divide\n",
      "  c /= stddev[None, :]\n",
      "d:\\ProgramData\\anaconda3\\envs\\pytorch\\Lib\\site-packages\\sklearn\\cluster\\_kmeans.py:1429: UserWarning: KMeans is known to have a memory leak on Windows with MKL, when there are less chunks than available threads. You can avoid it by setting the environment variable OMP_NUM_THREADS=1.\n",
      "  warnings.warn(\n"
     ]
    },
    {
     "name": "stdout",
     "output_type": "stream",
     "text": [
      "当前自样本数量: 60\n"
     ]
    },
    {
     "name": "stderr",
     "output_type": "stream",
     "text": [
      "d:\\ProgramData\\anaconda3\\envs\\pytorch\\Lib\\site-packages\\numpy\\lib\\function_base.py:2897: RuntimeWarning: invalid value encountered in divide\n",
      "  c /= stddev[:, None]\n",
      "d:\\ProgramData\\anaconda3\\envs\\pytorch\\Lib\\site-packages\\numpy\\lib\\function_base.py:2898: RuntimeWarning: invalid value encountered in divide\n",
      "  c /= stddev[None, :]\n",
      "d:\\ProgramData\\anaconda3\\envs\\pytorch\\Lib\\site-packages\\sklearn\\cluster\\_kmeans.py:1429: UserWarning: KMeans is known to have a memory leak on Windows with MKL, when there are less chunks than available threads. You can avoid it by setting the environment variable OMP_NUM_THREADS=1.\n",
      "  warnings.warn(\n"
     ]
    },
    {
     "name": "stdout",
     "output_type": "stream",
     "text": [
      "当前自样本数量: 70\n"
     ]
    },
    {
     "name": "stderr",
     "output_type": "stream",
     "text": [
      "d:\\ProgramData\\anaconda3\\envs\\pytorch\\Lib\\site-packages\\numpy\\lib\\function_base.py:2897: RuntimeWarning: invalid value encountered in divide\n",
      "  c /= stddev[:, None]\n",
      "d:\\ProgramData\\anaconda3\\envs\\pytorch\\Lib\\site-packages\\numpy\\lib\\function_base.py:2898: RuntimeWarning: invalid value encountered in divide\n",
      "  c /= stddev[None, :]\n",
      "d:\\ProgramData\\anaconda3\\envs\\pytorch\\Lib\\site-packages\\sklearn\\cluster\\_kmeans.py:1429: UserWarning: KMeans is known to have a memory leak on Windows with MKL, when there are less chunks than available threads. You can avoid it by setting the environment variable OMP_NUM_THREADS=1.\n",
      "  warnings.warn(\n"
     ]
    },
    {
     "name": "stdout",
     "output_type": "stream",
     "text": [
      "当前自样本数量: 80\n"
     ]
    },
    {
     "name": "stderr",
     "output_type": "stream",
     "text": [
      "d:\\ProgramData\\anaconda3\\envs\\pytorch\\Lib\\site-packages\\numpy\\lib\\function_base.py:2897: RuntimeWarning: invalid value encountered in divide\n",
      "  c /= stddev[:, None]\n",
      "d:\\ProgramData\\anaconda3\\envs\\pytorch\\Lib\\site-packages\\numpy\\lib\\function_base.py:2898: RuntimeWarning: invalid value encountered in divide\n",
      "  c /= stddev[None, :]\n",
      "d:\\ProgramData\\anaconda3\\envs\\pytorch\\Lib\\site-packages\\sklearn\\cluster\\_kmeans.py:1429: UserWarning: KMeans is known to have a memory leak on Windows with MKL, when there are less chunks than available threads. You can avoid it by setting the environment variable OMP_NUM_THREADS=1.\n",
      "  warnings.warn(\n"
     ]
    },
    {
     "name": "stdout",
     "output_type": "stream",
     "text": [
      "当前自样本数量: 90\n"
     ]
    },
    {
     "name": "stderr",
     "output_type": "stream",
     "text": [
      "d:\\ProgramData\\anaconda3\\envs\\pytorch\\Lib\\site-packages\\numpy\\lib\\function_base.py:2897: RuntimeWarning: invalid value encountered in divide\n",
      "  c /= stddev[:, None]\n",
      "d:\\ProgramData\\anaconda3\\envs\\pytorch\\Lib\\site-packages\\numpy\\lib\\function_base.py:2898: RuntimeWarning: invalid value encountered in divide\n",
      "  c /= stddev[None, :]\n",
      "d:\\ProgramData\\anaconda3\\envs\\pytorch\\Lib\\site-packages\\sklearn\\cluster\\_kmeans.py:1429: UserWarning: KMeans is known to have a memory leak on Windows with MKL, when there are less chunks than available threads. You can avoid it by setting the environment variable OMP_NUM_THREADS=1.\n",
      "  warnings.warn(\n"
     ]
    }
   ],
   "source": [
    "import numpy as np\n",
    "import pandas as pd\n",
    "from sklearn.preprocessing import MinMaxScaler\n",
    "from sklearn.metrics import mutual_info_score, confusion_matrix\n",
    "from scipy.spatial.distance import euclidean, cdist\n",
    "from sklearn.cluster import KMeans\n",
    "import os\n",
    "import json\n",
    "from datetime import datetime\n",
    "import warnings\n",
    "from sklearn.decomposition import PCA\n",
    "np.random.seed(42)\n",
    "SELF_RADIUS = 0.05\n",
    "SELF_COUNT = 1500\n",
    "warnings.filterwarnings('ignore', category=UserWarning, module='sklearn.metrics.cluster._supervised')\n",
    "\n",
    "# 数据加载\n",
    "def load_data(train_self_path, train_nonself_path, test_self_path, test_nonself_path, unknown_path):\n",
    "    try:\n",
    "        train_self = pd.read_csv(train_self_path)\n",
    "        train_self = train_self.sample(n=SELF_COUNT, random_state=42)\n",
    "        train_nonself = pd.read_csv(train_nonself_path)\n",
    "        unknown = pd.read_csv(unknown_path)\n",
    "        test_self = pd.read_csv(test_self_path).sample(n=5000, random_state=42)\n",
    "        test_nonself = pd.read_csv(test_nonself_path).sample(n=5000, random_state=42)\n",
    "\n",
    "        train_self['label'] = 0\n",
    "        train_nonself['label'] = 1\n",
    "        test_self['label'] = 0\n",
    "        test_nonself['label'] = 1\n",
    "        unknown['label'] = 1\n",
    "\n",
    "        train_data = pd.concat([train_self, train_nonself], axis=0).reset_index(drop=True)\n",
    "        test_data = pd.concat([test_self, test_nonself], axis=0).reset_index(drop=True)\n",
    "        return train_data, test_data, unknown\n",
    "    except Exception as e:\n",
    "        print(f\"数据加载失败: {e}\")\n",
    "        return None, None, None\n",
    "\n",
    "# 数据预处理\n",
    "def preprocess_data(train_data, test_data, unknown):\n",
    "    train_data = train_data.fillna(train_data.mean(numeric_only=True))\n",
    "    test_data = test_data.fillna(test_data.mean(numeric_only=True))\n",
    "    unknown = unknown.fillna(unknown.mean(numeric_only=True))\n",
    "\n",
    "    X_train = train_data.drop('label', axis=1).values\n",
    "    y_train = train_data['label'].values\n",
    "    X_test = test_data.drop('label', axis=1).values\n",
    "    y_test = test_data['label'].values\n",
    "    X_unknown = unknown.drop('label', axis=1).values\n",
    "    y_unknown = unknown['label'].values\n",
    "    return X_train, y_train, X_test, y_test, X_unknown, y_unknown\n",
    "\n",
    "# 特征选择：DP-SUMIC\n",
    "def dp_sumic_feature_selection(X, y, k=5, threshold_mic=0.8):\n",
    "    n_features = X.shape[1]\n",
    "    # 1. 特征聚类\n",
    "    distances = cdist(X.T, X.T)\n",
    "    rho = local_density(distances, k)\n",
    "    delta = np.zeros(n_features)\n",
    "    for i in range(n_features):\n",
    "        higher_density = rho > rho[i]\n",
    "        delta[i] = np.min(distances[i, higher_density]) if higher_density.any() else np.max(distances[i])\n",
    "\n",
    "    D = (rho / np.max(rho)) * (delta / np.max(delta))\n",
    "    cluster_centers = np.argsort(-D)[:int(n_features * 0.3)]\n",
    "\n",
    "    # 2. 类内 SU 和 类间 MIC\n",
    "    su_scores = symmetric_uncertainty(X, y)\n",
    "    mic_scores = np.corrcoef(X.T)\n",
    "    redundant_features = set()\n",
    "    for i in range(n_features):\n",
    "        for j in range(i + 1, n_features):\n",
    "            if mic_scores[i, j] > threshold_mic and su_scores[i] < su_scores[j]:\n",
    "                redundant_features.add(i)\n",
    "    \n",
    "    selected_features = [i for i in range(n_features) if i not in redundant_features]\n",
    "    return selected_features\n",
    "\n",
    "def symmetric_uncertainty(X, y):\n",
    "    su_scores = []\n",
    "    for i in range(X.shape[1]):\n",
    "        mi = mutual_info_score(X[:, i], y)\n",
    "        h_x = entropy(X[:, i])\n",
    "        h_y = entropy(y)\n",
    "        su = 2 * mi / (h_x + h_y) if (h_x + h_y) > 0 else 0\n",
    "        su_scores.append(su)\n",
    "    return np.array(su_scores)\n",
    "\n",
    "def entropy(data):\n",
    "    hist, _ = np.histogram(data, bins=10, density=True)\n",
    "    hist = hist[hist > 0]\n",
    "    return -np.sum(hist * np.log2(hist)) if hist.size > 0 else 0\n",
    "\n",
    "def local_density(distances, k):\n",
    "    n_features = distances.shape[0]\n",
    "    rho = np.zeros(n_features)\n",
    "    for i in range(n_features):\n",
    "        sorted_dist = np.sort(distances[i])\n",
    "        rho[i] = np.sum(np.exp(-sorted_dist[1:k+1]))\n",
    "    return rho\n",
    "\n",
    "# 边界检测器生成\n",
    "def hdbd_boundary_detectors(X_self, grid_size=0.05, max_features=5):\n",
    "    X_self = np.array(X_self)\n",
    "    # 降维到 max_features（不超过 5）\n",
    "    if X_self.shape[1] > max_features:\n",
    "        pca = PCA(n_components=max_features)\n",
    "        X_self_reduced = pca.fit_transform(X_self)\n",
    "    else:\n",
    "        X_self_reduced = X_self\n",
    "    n_features = X_self_reduced.shape[1]\n",
    "\n",
    "    grid_bounds = np.linspace(0, 1, int(1 / grid_size) + 1)\n",
    "    grid_shape = [int(1 / grid_size)] * n_features\n",
    "    grid_space = np.zeros(grid_shape, dtype=int)\n",
    "\n",
    "    for sample in X_self_reduced:\n",
    "        grid_idx = tuple(np.minimum(np.maximum(np.floor(sample / grid_size).astype(int), 0), np.array(grid_shape) - 1))\n",
    "        grid_space[grid_idx] += 1\n",
    "\n",
    "    boundary_detectors = []\n",
    "    it = np.nditer(grid_space, flags=['multi_index'])\n",
    "    while not it.finished:\n",
    "        idx = it.multi_index\n",
    "        if grid_space[idx] == 0:\n",
    "            neighbors = get_neighbors(idx, grid_shape)\n",
    "            if any(grid_space[n] > 0 for n in neighbors if all(0 <= ni < grid_shape[i] for i, ni in enumerate(n))):\n",
    "                center_reduced = np.array([grid_bounds[i] + grid_size / 2 for i in idx])\n",
    "                # 还原到原始维度\n",
    "                center_full = pca.inverse_transform(center_reduced.reshape(1, -1)).flatten()\n",
    "                distance = min([euclidean(center_full, X_self[i]) for i in range(len(X_self))])\n",
    "                boundary_detectors.append((center_full, distance))\n",
    "        it.iternext()\n",
    "    return boundary_detectors\n",
    "\n",
    "def get_neighbors(idx, shape):\n",
    "    neighbors = []\n",
    "    for dim in range(len(idx)):\n",
    "        for offset in [-1, 1]:\n",
    "            new_idx = list(idx)\n",
    "            new_idx[dim] += offset\n",
    "            if all(0 <= new_idx[i] < shape[i] for i in range(len(shape))):\n",
    "                neighbors.append(tuple(new_idx))\n",
    "    return neighbors\n",
    "\n",
    "# 非边界探测器生成（MDGWO-NSA）\n",
    "class MDGWO_NSA:\n",
    "    def __init__(self, X_self, n_detectors=20, max_iter=50, min_radius=0.01, max_radius=0.3):\n",
    "        self.X_self = np.array(X_self)\n",
    "        self.n_detectors = n_detectors\n",
    "        self.max_iter = max_iter\n",
    "        self.dim = X_self.shape[1]\n",
    "        self.min_radius = min_radius\n",
    "        self.max_radius = max_radius\n",
    "\n",
    "    def cluster_self(self):\n",
    "        n_clusters = min(3, len(self.X_self))\n",
    "        kmeans = KMeans(n_clusters=n_clusters, random_state=42)\n",
    "        kmeans.fit(self.X_self)\n",
    "        centers = kmeans.cluster_centers_\n",
    "        labels = kmeans.labels_\n",
    "        radii = []\n",
    "        for i in range(n_clusters):\n",
    "            cluster_points = self.X_self[labels == i]\n",
    "            if len(cluster_points) > 0:\n",
    "                distances = cdist(centers[i:i+1], cluster_points)\n",
    "                radii.append(np.max(distances))\n",
    "            else:\n",
    "                radii.append(self.min_radius)\n",
    "        return centers, np.array(radii)\n",
    "\n",
    "    def fitness(self, detectors, centers, radii):\n",
    "        overlap = 0\n",
    "        coverage = 0\n",
    "        for i, (center, radius) in enumerate(detectors):\n",
    "            # 重叠惩罚\n",
    "            for j in range(i + 1, len(detectors)):\n",
    "                dist = euclidean(detectors[i][0], detectors[j][0])\n",
    "                if dist < detectors[i][1] + detectors[j][1]:\n",
    "                    overlap += (detectors[i][1] + detectors[j][1] - dist)\n",
    "\n",
    "            # 自样本覆盖惩罚\n",
    "            for x in self.X_self:\n",
    "                if euclidean(center, x) < radius:\n",
    "                    overlap += 2.0\n",
    "\n",
    "            # 半径惩罚\n",
    "            if radius > self.max_radius:\n",
    "                overlap += (radius - self.max_radius) * 2\n",
    "\n",
    "            coverage += radius ** 2\n",
    "\n",
    "        return coverage - overlap * 2\n",
    "\n",
    "    def optimize(self):\n",
    "        centers, radii = self.cluster_self()\n",
    "        wolves = np.random.rand(self.n_detectors, self.dim)\n",
    "        wolf_radii = np.random.uniform(self.min_radius, self.max_radius, self.n_detectors)\n",
    "\n",
    "        alpha, beta, delta = wolves[0], wolves[0], wolves[0]\n",
    "        alpha_score, beta_score, delta_score = -np.inf, -np.inf, -np.inf\n",
    "\n",
    "        for t in range(self.max_iter):\n",
    "            a = 2 * (1 - t / self.max_iter)\n",
    "            for i in range(self.n_detectors):\n",
    "                detectors = [(wolves[j], wolf_radii[j]) for j in range(self.n_detectors)]\n",
    "                score = self.fitness(detectors, centers, radii)\n",
    "\n",
    "                if score > alpha_score:\n",
    "                    alpha_score, alpha = score, wolves[i].copy()\n",
    "                elif score > beta_score:\n",
    "                    beta_score, beta = score, wolves[i].copy()\n",
    "                elif score > delta_score:\n",
    "                    delta_score, delta = score, wolves[i].copy()\n",
    "\n",
    "                r1, r2 = np.random.rand(2)\n",
    "                A = 2 * a * r1 - a\n",
    "                C = 2 * r2\n",
    "\n",
    "                D_alpha = abs(C * alpha - wolves[i])\n",
    "                D_beta = abs(C * beta - wolves[i])\n",
    "                D_delta = abs(C * delta - wolves[i])\n",
    "\n",
    "                X1 = alpha - A * D_alpha\n",
    "                X2 = beta - A * D_beta\n",
    "                X3 = delta - A * D_delta\n",
    "\n",
    "                wolves[i] = np.clip((X1 + X2 + X3) / 3, 0, 1)\n",
    "                min_dist_to_self = np.min(cdist(wolves[i].reshape(1, -1), self.X_self))\n",
    "                wolf_radii[i] = np.clip(min_dist_to_self / 2, self.min_radius, self.max_radius)\n",
    "\n",
    "        return [(wolves[i], wolf_radii[i]) for i in range(self.n_detectors)]\n",
    "\n",
    "# 孔洞修复\n",
    "def hole_repair(detectors, X_nonself, threshold_density=0.2, r_min=0.01, r_max=0.1):\n",
    "    repaired_detectors = detectors.copy()\n",
    "    detector_centers = np.array([d[0] for d in detectors])\n",
    "    detector_radii = np.array([d[1] for d in detectors])\n",
    "\n",
    "    # 计算密度\n",
    "    densities = []\n",
    "    for i, (center, radius) in enumerate(detectors):\n",
    "        dist_to_nonself = cdist(center.reshape(1, -1), X_nonself)\n",
    "        density = np.sum(dist_to_nonself < radius) / len(X_nonself)\n",
    "        densities.append(density)\n",
    "\n",
    "    # Rp1: 在低密度区域添加新探测器\n",
    "    for i, density in enumerate(densities):\n",
    "        if density < threshold_density:\n",
    "            new_center = detector_centers[i] + np.random.uniform(-0.1, 0.1, size=detector_centers[i].shape)\n",
    "            new_center = np.clip(new_center, 0, 1)\n",
    "            min_dist_to_self = np.min(cdist(new_center.reshape(1, -1), X_nonself))\n",
    "            new_radius = np.clip(min_dist_to_self / 2, r_min, r_max)\n",
    "            repaired_detectors.append((new_center, new_radius))\n",
    "\n",
    "    return repaired_detectors\n",
    "\n",
    "# 检测函数\n",
    "def detect(test_data, detectors):\n",
    "    predictions = []\n",
    "    for sample in test_data:\n",
    "        is_anomaly = any(euclidean(sample, d[0]) < d[1] for d in detectors)\n",
    "        predictions.append(1 if is_anomaly else 0)\n",
    "    return np.array(predictions)\n",
    "\n",
    "# 评估函数\n",
    "def evaluate(y_true, y_pred, y_unknown, u_pred):\n",
    "    tn, fp, fn, tp = confusion_matrix(y_true, y_pred, labels=[0, 1]).ravel()\n",
    "    acc = (tp + tn) / (tp + tn + fp + fn)\n",
    "    precision = tp / (tp + fp) if (tp + fp) > 0 else 0\n",
    "    recall = tp / (tp + fn) if (tp + fn) > 0 else 0\n",
    "    f1 = 2 * (precision * recall) / (precision + recall) if (precision + recall) > 0 else 0\n",
    "    far = fp / (fp + tn) if (fp + tn) > 0 else 0\n",
    "    uc = np.mean(u_pred == 1)\n",
    "    return acc, precision, recall, f1, far, uc\n",
    "\n",
    "# 保存结果\n",
    "def save_results(unknown_type, metrics, unknown_detection_rate, output_dir=\"results\"):\n",
    "    os.makedirs(output_dir, exist_ok=True)\n",
    "    result = {\n",
    "        \"unknown_type\": unknown_type,\n",
    "        \"accuracy\": metrics[0],\n",
    "        \"precision\": metrics[1],\n",
    "        \"recall\": metrics[2],\n",
    "        \"f1_score\": metrics[3],\n",
    "        \"false_alarm_rate\": metrics[4],\n",
    "        \"unknown_detection_rate\": unknown_detection_rate,\n",
    "        \"timestamp\": datetime.now().strftime(\"%Y-%m-%d %H:%M:%S\")\n",
    "    }\n",
    "    with open(f\"{output_dir}/results_{unknown_type}.json\", \"w\") as f:\n",
    "        json.dump(result, f, indent=4)\n",
    "    print(f\"结果已保存到 {output_dir}/results_{unknown_type}.json\")\n",
    "\n",
    "# 参数实验\n",
    "def parameter_experiment(X_train, y_train, X_test, y_test, X_unknown, y_unknown,unknown_type):\n",
    "    # 实验参数范围\n",
    "    self_count_range = np.arange(10, 100, 10)\n",
    "    \n",
    "    # 存储结果\n",
    "    results = {\n",
    "        'self_count': [],\n",
    "        'accuracy': [],\n",
    "        'precision': [],\n",
    "        'recall': [],\n",
    "        'f1': [],\n",
    "        'far': [],\n",
    "        'uc': []\n",
    "    }\n",
    "    \n",
    "\n",
    "    for count in self_count_range:\n",
    "        # 更新全局参数\n",
    "        global SELF_COUNT\n",
    "        SELF_COUNT = count\n",
    "        print(f\"当前自样本数量: {count}\")\n",
    "        # 在所有操作前应用特征选择\n",
    "        selected_features = dp_sumic_feature_selection(X_train, y_train, k=5)\n",
    "        X_train_selected = X_train[:, selected_features]\n",
    "        X_test_selected = X_test[:, selected_features]\n",
    "        X_unknown_selected = X_unknown[:, selected_features]\n",
    "        \n",
    "        X_self = X_train_selected[y_train == 0]\n",
    "        X_self = pd.DataFrame(X_self).sample(n=count, random_state=42).values\n",
    "        X_nonself = X_train_selected[y_train == 1]\n",
    "\n",
    "        # print(\"生成边界探测器...\")\n",
    "        boundary_detectors = hdbd_boundary_detectors(X_self, grid_size=0.05, max_features=5)\n",
    "\n",
    "        # print(\"使用MDGWO-NSA生成非边界探测器...\")\n",
    "        mdgwo = MDGWO_NSA(X_self, n_detectors=20, max_iter=50)\n",
    "        nonboundary_detectors = mdgwo.optimize()\n",
    "\n",
    "        # print(\"执行孔洞修复...\")\n",
    "        all_detectors = boundary_detectors + nonboundary_detectors\n",
    "        repaired_detectors = hole_repair(all_detectors, X_nonself)\n",
    "        # print(f\"修复后的探测器数量: {len(repaired_detectors)}\")\n",
    "\n",
    "        # print(\"评估模型性能...\")\n",
    "        y_pred_test = detect(X_test_selected, repaired_detectors)\n",
    "        u_pred = detect(X_unknown_selected, repaired_detectors)\n",
    "\n",
    "        accuracy, precision, recall, f1, fpr, uc = evaluate(y_test, y_pred_test, y_unknown, u_pred)\n",
    "        # print(f\"准确率: {accuracy:.4f}, 精确率: {precision:.4f}, 召回率: {recall:.4f}, F1分数: {f1:.4f}, 误报率: {fpr:.4f}\")\n",
    "\n",
    "        # 存储结果\n",
    "        results['self_count'].append(count)\n",
    "        results['accuracy'].append(accuracy)\n",
    "        results['precision'].append(precision)\n",
    "        results['recall'].append(recall)\n",
    "        results['f1'].append(f1)\n",
    "        results['far'].append(fpr)\n",
    "        results['uc'].append(uc)\n",
    "            \n",
    "    return pd.DataFrame(results)\n",
    "\n",
    "# 主函数\n",
    "def main():\n",
    "    unknown_types = [\"dos\", \"probe\", \"u2r\", \"r2l\"]\n",
    "    for unknown_type in unknown_types:\n",
    "        # 加载数据\n",
    "        train_self_path = '../../check/self/train_self.csv'\n",
    "        train_nonself_path = f'../../check/train/seed_{unknown_type}.csv'\n",
    "        test_self_path = '../../check/self/test_self.csv'\n",
    "        test_nonself_path = '../../check/nonself/test_nonself.csv'\n",
    "        unknown_path = f'../../check/unknown/4type/{unknown_type}.csv'\n",
    "\n",
    "        train_data, test_data, unknown = load_data(train_self_path, train_nonself_path, test_self_path, test_nonself_path, unknown_path)\n",
    "        if train_data is None:\n",
    "            continue\n",
    "\n",
    "        X_train, y_train, X_test, y_test, X_unknown, y_unknown = preprocess_data(train_data, test_data, unknown)\n",
    "    \n",
    "\n",
    "        results_df = parameter_experiment(X_train, y_train, X_test, y_test, X_unknown, y_unknown,unknown_type)\n",
    "        \n",
    "        # 找到最佳参数组合\n",
    "        best_result = results_df.loc[results_df['f1'].idxmax()]\n",
    "        # 保存结果\n",
    "        with open(f\"DGA-PSO_{unknown_type}_best_params.txt\", 'w') as f:\n",
    "            f.write(f\"Best Parameters:\\n\")\n",
    "            f.write(f\"Self Count: {int(best_result['self_count'])}\\n\")\n",
    "            f.write(f\"Accuracy: {best_result['accuracy']:.2%}\\n\")\n",
    "            f.write(f\"Precision: {best_result['precision']:.2%}\\n\")\n",
    "            f.write(f\"Recall: {best_result['recall']:.2%}\\n\")\n",
    "            f.write(f\"F1 Score: {best_result['f1']:.2%}\\n\")\n",
    "            f.write(f\"False Alarm Rate: {best_result['far']:.2%}\\n\")\n",
    "            f.write(f\"Unknown Coverage: {best_result['uc']:.2%}\\n\")\n",
    "            \n",
    "if __name__ == '__main__':\n",
    "    main()"
   ]
  }
 ],
 "metadata": {
  "kernelspec": {
   "display_name": "pytorch",
   "language": "python",
   "name": "python3"
  },
  "language_info": {
   "codemirror_mode": {
    "name": "ipython",
    "version": 3
   },
   "file_extension": ".py",
   "mimetype": "text/x-python",
   "name": "python",
   "nbconvert_exporter": "python",
   "pygments_lexer": "ipython3",
   "version": "3.12.7"
  }
 },
 "nbformat": 4,
 "nbformat_minor": 2
}
