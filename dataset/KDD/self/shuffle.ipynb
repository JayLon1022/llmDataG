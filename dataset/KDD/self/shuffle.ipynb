{
 "cells": [
  {
   "cell_type": "code",
   "execution_count": 1,
   "metadata": {},
   "outputs": [
    {
     "name": "stdout",
     "output_type": "stream",
     "text": [
      "原始训练集大小: 13449\n",
      "原始测试集大小: 9711\n"
     ]
    }
   ],
   "source": [
    "import pandas as pd\n",
    "from sklearn.utils import shuffle\n",
    "\n",
    "train_self = pd.read_csv(\"train_self.csv\")\n",
    "test_self = pd.read_csv(\"test_self.csv\")\n",
    "\n",
    "# 保存原始数据的大小\n",
    "train_size = len(train_self)\n",
    "test_size = len(test_self)\n",
    "\n",
    "print(f\"原始训练集大小: {train_size}\")\n",
    "print(f\"原始测试集大小: {test_size}\")\n"
   ]
  },
  {
   "cell_type": "code",
   "execution_count": 2,
   "metadata": {},
   "outputs": [
    {
     "name": "stdout",
     "output_type": "stream",
     "text": [
      "合并后数据集大小: 23160\n",
      "打乱后数据集大小: 23160\n",
      "新训练集大小: 13449\n",
      "新测试集大小: 9711\n"
     ]
    }
   ],
   "source": [
    "# 合并数据\n",
    "combined_self = pd.concat([train_self, test_self]).reset_index(drop=True)\n",
    "\n",
    "# 保存原始合并数据\n",
    "combined_self.to_csv(\"self_original.csv\", index=False)\n",
    "print(f\"合并后数据集大小: {len(combined_self)}\")\n",
    "\n",
    "# 打乱数据\n",
    "shuffled_self = shuffle(combined_self, random_state=37)\n",
    "\n",
    "# 保存打乱后的完整数据集\n",
    "shuffled_self.to_csv(\"self_shuffle.csv\", index=False)\n",
    "print(f\"打乱后数据集大小: {len(shuffled_self)}\")\n",
    "\n",
    "# 重新分发到训练集和测试集\n",
    "new_train_self = shuffled_self[:train_size]\n",
    "new_test_self = shuffled_self[train_size:]\n",
    "\n",
    "# 保存新的训练集和测试集\n",
    "new_train_self.to_csv(\"train_self_new.csv\", index=False)\n",
    "new_test_self.to_csv(\"test_self_new.csv\", index=False)\n",
    "\n",
    "print(f\"新训练集大小: {len(new_train_self)}\")\n",
    "print(f\"新测试集大小: {len(new_test_self)}\")"
   ]
  }
 ],
 "metadata": {
  "kernelspec": {
   "display_name": "pytorch",
   "language": "python",
   "name": "python3"
  },
  "language_info": {
   "codemirror_mode": {
    "name": "ipython",
    "version": 3
   },
   "file_extension": ".py",
   "mimetype": "text/x-python",
   "name": "python",
   "nbconvert_exporter": "python",
   "pygments_lexer": "ipython3",
   "version": "3.12.7"
  }
 },
 "nbformat": 4,
 "nbformat_minor": 2
}
