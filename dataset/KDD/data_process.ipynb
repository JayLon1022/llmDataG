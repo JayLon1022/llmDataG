{
 "cells": [
  {
   "cell_type": "code",
   "execution_count": 10,
   "metadata": {},
   "outputs": [],
   "source": [
    "# 载入原始数据集\n",
    "import pandas as pd\n",
    "test_data = pd.read_csv(\"KDDTest.csv\")\n",
    "train_data = pd.read_csv(\"KDDTrain.csv\")"
   ]
  },
  {
   "cell_type": "code",
   "execution_count": 11,
   "metadata": {},
   "outputs": [],
   "source": [
    "# 原始数据集处理\n",
    "from sklearn.preprocessing import LabelEncoder\n",
    "label_encoder = LabelEncoder()\n",
    "\n",
    "train_data['protocol_type'] = label_encoder.fit_transform(train_data['protocol_type'])\n",
    "test_data['protocol_type'] = label_encoder.fit_transform(test_data['protocol_type'])\n",
    "train_data['service'] = label_encoder.fit_transform(train_data['service'])\n",
    "test_data['service'] = label_encoder.fit_transform(test_data['service'])\n",
    "train_data['flag'] = label_encoder.fit_transform(train_data['flag'])\n",
    "test_data['flag'] = label_encoder.fit_transform(test_data['flag'])\n",
    "\n",
    "# 保存修改后的数据\n",
    "train_data.to_csv(\"train_data.csv\",index=False)\n",
    "test_data.to_csv(\"test_data.csv\",index=False)"
   ]
  },
  {
   "cell_type": "code",
   "execution_count": 12,
   "metadata": {},
   "outputs": [],
   "source": [
    "# 对除class列外的所有特征进行归一化处理\n",
    "from sklearn.preprocessing import MinMaxScaler\n",
    "train_scaler = MinMaxScaler()\n",
    "test_scaler =  MinMaxScaler()\n",
    "# 获取除class列外的所有列\n",
    "train_features = train_data.drop(['class', 'num'], axis=1)\n",
    "test_features = test_data.drop(['class', 'num'], axis=1)\n",
    "\n",
    "# 对特征进行归一化\n",
    "train_normalized = pd.DataFrame(train_scaler.fit_transform(train_features))\n",
    "test_normalized = pd.DataFrame(test_scaler.fit_transform(test_features))\n",
    "\n",
    "# 将class列添加回归一化后的数据\n",
    "train_normalized['class'] = train_data['class']\n",
    "test_normalized['class'] = test_data['class']\n",
    "\n",
    "train_data = train_normalized\n",
    "test_data = test_normalized\n",
    "train_data.to_csv(\"train_data.csv\",index=False)\n",
    "test_data.to_csv(\"test_data.csv\",index=False)"
   ]
  },
  {
   "cell_type": "code",
   "execution_count": 13,
   "metadata": {},
   "outputs": [
    {
     "name": "stdout",
     "output_type": "stream",
     "text": [
      "train_self:\n",
      "13449\n",
      "test_self:\n",
      "9711\n",
      "train_nonself:\n",
      "11743\n",
      "test_nonself:\n",
      "12833\n"
     ]
    }
   ],
   "source": [
    "# 处理自体数据\n",
    "test_self = test_data[test_data['class'] == 'normal'].drop(['class'], axis=1)\n",
    "train_self = train_data[train_data['class'] == 'normal'].drop(['class'], axis=1)\n",
    "print('train_self:')\n",
    "print(len(train_self))\n",
    "print('test_self:')\n",
    "print(len(test_self))\n",
    "test_self.to_csv(\"self/test_self.csv\",index=False)\n",
    "train_self.to_csv(\"self/train_self.csv\",index=False)\n",
    "\n",
    "# 处理非自体数据\n",
    "test_nonself = test_data[test_data['class'] != 'normal'].drop(['class'], axis=1)\n",
    "train_nonself = train_data[train_data['class'] != 'normal'].drop(['class'], axis=1)\n",
    "\n",
    "print('train_nonself:')\n",
    "print(len(train_nonself))\n",
    "print('test_nonself:')\n",
    "print(len(test_nonself))\n",
    "test_nonself.to_csv(\"nonself/test_nonself.csv\",index=False)\n",
    "train_nonself.to_csv(\"nonself/train_nonself.csv\",index=False)\n"
   ]
  },
  {
   "cell_type": "code",
   "execution_count": 14,
   "metadata": {},
   "outputs": [
    {
     "name": "stdout",
     "output_type": "stream",
     "text": [
      "训练集中的攻击类型:\n",
      "['normal' 'neptune' 'warezclient' 'ipsweep' 'portsweep' 'teardrop' 'nmap'\n",
      " 'satan' 'smurf' 'pod' 'back' 'guess_passwd' 'ftp_write' 'multihop'\n",
      " 'rootkit' 'buffer_overflow' 'imap' 'warezmaster' 'phf' 'land'\n",
      " 'loadmodule' 'spy']\n",
      "\n",
      "测试集中的攻击类型:\n",
      "['neptune' 'normal' 'saint' 'mscan' 'guess_passwd' 'smurf' 'apache2'\n",
      " 'satan' 'buffer_overflow' 'back' 'warezmaster' 'snmpgetattack'\n",
      " 'processtable' 'pod' 'httptunnel' 'nmap' 'ps' 'snmpguess' 'ipsweep'\n",
      " 'mailbomb' 'portsweep' 'multihop' 'named' 'sendmail' 'loadmodule' 'xterm'\n",
      " 'worm' 'teardrop' 'rootkit' 'xlock' 'perl' 'land' 'xsnoop' 'sqlattack'\n",
      " 'ftp_write' 'imap' 'udpstorm' 'phf']\n"
     ]
    }
   ],
   "source": [
    "# 打印训练集、测试集中所有class的种类\n",
    "print(\"训练集中的攻击类型:\")\n",
    "print(train_data['class'].unique())\n",
    "print(\"\\n测试集中的攻击类型:\") \n",
    "print(test_data['class'].unique())\n"
   ]
  },
  {
   "cell_type": "code",
   "execution_count": 15,
   "metadata": {},
   "outputs": [
    {
     "name": "stdout",
     "output_type": "stream",
     "text": [
      "映射后训练集中的攻击类型:\n",
      "['normal' 'dos' 'r2l' 'probe' 'u2r']\n",
      "\n",
      "映射后测试集中的攻击类型:\n",
      "['dos' 'normal' 'probe' 'r2l' 'u2r']\n"
     ]
    }
   ],
   "source": [
    "# 定义攻击类型映射字典\n",
    "attack_mapping = {\n",
    "    'back': 'dos', 'land': 'dos', 'neptune': 'dos', 'pod': 'dos', 'smurf': 'dos', 'teardrop': 'dos', 'udpstorm': 'dos', 'processtable': 'dos', 'mailbomb': 'dos',\n",
    "    'apache2': 'dos',\n",
    "    \n",
    "    'buffer_overflow': 'u2r', 'loadmodule': 'u2r', 'perl': 'u2r', 'rootkit': 'u2r', 'ps': 'u2r', 'xterm': 'u2r', 'sqlattack': 'u2r',\n",
    "    \n",
    "    'ftp_write': 'r2l', 'guess_passwd': 'r2l', 'imap': 'r2l', 'multihop': 'r2l', 'phf': 'r2l', 'warezmaster': 'r2l',\n",
    "    'snmpgetattack': 'r2l', 'httptunnel': 'r2l', 'snmpguess': 'r2l', 'named': 'r2l', 'sendmail': 'r2l', 'xlock': 'r2l',\n",
    "    'xsnoop': 'r2l', 'worm': 'r2l','warezclient': 'r2l','spy':'r2l',\n",
    "    \n",
    "    'ipsweep': 'probe', 'nmap': 'probe', 'portsweep': 'probe', 'satan': 'probe', 'saint': 'probe', 'mscan': 'probe'\n",
    "}\n",
    "\n",
    "# 将训练集中的具体攻击类型映射为大类\n",
    "train_data['class'] = train_data['class'].map(lambda x: attack_mapping.get(x, x))\n",
    "\n",
    "# 将测试集中的具体攻击类型映射为大类  \n",
    "test_data['class'] = test_data['class'].map(lambda x: attack_mapping.get(x, x))\n",
    "\n",
    "print(\"映射后训练集中的攻击类型:\")\n",
    "print(train_data['class'].unique())\n",
    "print(\"\\n映射后测试集中的攻击类型:\")\n",
    "print(test_data['class'].unique())\n"
   ]
  },
  {
   "cell_type": "code",
   "execution_count": 16,
   "metadata": {},
   "outputs": [
    {
     "name": "stdout",
     "output_type": "stream",
     "text": [
      "训练集中各类别的数量:\n",
      "class\n",
      "normal    13449\n",
      "dos        9234\n",
      "probe      2289\n",
      "r2l         209\n",
      "u2r          11\n",
      "Name: count, dtype: int64\n",
      "\n",
      "测试集中各类别的数量:\n",
      "class\n",
      "normal    9711\n",
      "dos       7458\n",
      "r2l       2887\n",
      "probe     2421\n",
      "u2r         67\n",
      "Name: count, dtype: int64\n"
     ]
    }
   ],
   "source": [
    "# 保存映射后的数据\n",
    "train_data.to_csv(\"4_type_train_data.csv\", index=False)\n",
    "test_data.to_csv(\"4_type_test_data.csv\", index=False)\n",
    "\n",
    "# 统计每个类别的数量\n",
    "print(\"训练集中各类别的数量:\")\n",
    "print(train_data['class'].value_counts())\n",
    "\n",
    "print(\"\\n测试集中各类别的数量:\")  \n",
    "print(test_data['class'].value_counts())\n"
   ]
  },
  {
   "cell_type": "code",
   "execution_count": 17,
   "metadata": {},
   "outputs": [
    {
     "name": "stdout",
     "output_type": "stream",
     "text": [
      "test_Total: 12833\n",
      "test_dos: 7458 (58.12%)\n",
      "test_probe: 2421 (18.87%)\n",
      "test_r2l: 2887 (22.50%)\n",
      "test_u2r: 67 (0.52%)\n",
      "\n",
      "\n",
      "train_Total: 11743\n",
      "train_dos: 9234 (78.63%)\n",
      "train_probe: 2289 (19.49%)\n",
      "train_r2l: 209 (1.78%)\n",
      "train_u2r: 11 (0.09%)\n"
     ]
    }
   ],
   "source": [
    "# （四种）数据处理\n",
    "# (四种)测试集数据攻击分类\n",
    "test_dos = test_data[test_data['class'] == 'dos'].drop(['class'], axis=1)\n",
    "test_dos.to_csv(\"unknown/dos.csv\",index=False)\n",
    "\n",
    "test_probe = test_data[test_data['class'] == 'probe'].drop(['class'], axis=1) \n",
    "test_probe.to_csv(\"unknown/probe.csv\",index=False)\n",
    "\n",
    "test_r2l = test_data[test_data['class'] == 'r2l'].drop(['class'], axis=1)  \n",
    "test_r2l.to_csv(\"unknown/r2l.csv\",index=False)\n",
    "\n",
    "test_u2r = test_data[test_data['class'] == 'u2r'].drop(['class'], axis=1)\n",
    "test_u2r.to_csv(\"unknown/u2r.csv\",index=False)\n",
    "\n",
    "total_len = len(test_nonself)\n",
    "\n",
    "# 打印每一类长度和比例\n",
    "print(f\"test_Total: {len(test_nonself)}\")\n",
    "print(f\"test_dos: {len(test_dos)} ({len(test_dos) / total_len:.2%})\")\n",
    "print(f\"test_probe: {len(test_probe)} ({len(test_probe) / total_len:.2%})\")\n",
    "print(f\"test_r2l: {len(test_r2l)} ({len(test_r2l) / total_len:.2%})\")\n",
    "print(f\"test_u2r: {len(test_u2r)} ({len(test_u2r) / total_len:.2%})\")\n",
    "\n",
    "print('\\n')\n",
    "\n",
    "# （四种）训练集数据攻击分类\n",
    "train_dos = train_data[train_data['class'] == 'dos'].drop(['class'], axis=1)\n",
    "\n",
    "train_probe = train_data[train_data['class'] == 'probe'].drop(['class'], axis=1)\n",
    "\n",
    "train_r2l = train_data[train_data['class'] == 'r2l'].drop(['class'], axis=1)\n",
    "\n",
    "train_u2r = train_data[train_data['class'] == 'u2r'].drop(['class'], axis=1)\n",
    "\n",
    "total_len = len(train_nonself)\n",
    "\n",
    "# 打印每一类长度和比例\n",
    "print(f\"train_Total: {len(train_nonself)}\")\n",
    "print(f\"train_dos: {len(train_dos)} ({len(train_dos) / total_len:.2%})\")\n",
    "print(f\"train_probe: {len(train_probe)} ({len(train_probe) / total_len:.2%})\")\n",
    "print(f\"train_r2l: {len(train_r2l)} ({len(train_r2l) / total_len:.2%})\")\n",
    "print(f\"train_u2r: {len(train_u2r)} ({len(train_u2r) / total_len:.2%})\")\n"
   ]
  },
  {
   "cell_type": "code",
   "execution_count": 18,
   "metadata": {},
   "outputs": [
    {
     "name": "stdout",
     "output_type": "stream",
     "text": [
      "trainset_sampled: 1720\n",
      "seed_dos: 720\n",
      "seed_probe: 1220\n",
      "seed_r2l: 1511\n",
      "seed_u2r: 1709\n"
     ]
    }
   ],
   "source": [
    "# （四种）训练集采样\n",
    "trainset_dos_sampled = train_dos.sample(n=1000, random_state=42)\n",
    "trainset_probe_sampled = train_probe.sample(n=500, random_state=42)\n",
    "trainset_r2l_sampled = train_r2l.sample(n=209, random_state=42)\n",
    "trainset_u2r_sampled = train_u2r.sample(n=11, random_state=42)\n",
    "\n",
    "trainset_sampled = pd.concat([\n",
    "    trainset_dos_sampled,\n",
    "    trainset_probe_sampled,\n",
    "    trainset_r2l_sampled,\n",
    "    trainset_u2r_sampled\n",
    "], axis=0)\n",
    "\n",
    "trainset_sampled = trainset_sampled.sample(frac=1, random_state=42)\n",
    "print(f\"trainset_sampled: {len(trainset_sampled)}\")\n",
    "trainset_sampled.to_csv(\"4_type_trainset_sampled.csv\",index=False)\n",
    "\n",
    "seed_dos = pd.concat([\n",
    "    trainset_probe_sampled,\n",
    "    trainset_r2l_sampled,\n",
    "    trainset_u2r_sampled\n",
    "], axis=0)\n",
    "\n",
    "seed_dos = seed_dos.sample(frac=1, random_state=42)\n",
    "print(f\"seed_dos: {len(seed_dos)}\")\n",
    "seed_dos.to_csv(\"seed_4_type/dos/seed_dos.csv\",index=False)\n",
    "\n",
    "seed_probe = pd.concat([\n",
    "    trainset_dos_sampled,\n",
    "    trainset_r2l_sampled,\n",
    "    trainset_u2r_sampled\n",
    "], axis=0)\n",
    "\n",
    "seed_probe = seed_probe.sample(frac=1, random_state=42)\n",
    "print(f\"seed_probe: {len(seed_probe)}\")\n",
    "seed_probe.to_csv(\"seed_4_type/probe/seed_probe.csv\",index=False)\n",
    "\n",
    "seed_r2l = pd.concat([\n",
    "    trainset_dos_sampled,\n",
    "    trainset_probe_sampled,\n",
    "    trainset_u2r_sampled\n",
    "], axis=0) \n",
    "\n",
    "seed_r2l = seed_r2l.sample(frac=1, random_state=42)\n",
    "print(f\"seed_r2l: {len(seed_r2l)}\")\n",
    "seed_r2l.to_csv(\"seed_4_type/r2l/seed_r2l.csv\",index=False)\n",
    "\n",
    "seed_u2r = pd.concat([\n",
    "    trainset_dos_sampled,\n",
    "    trainset_probe_sampled,\n",
    "    trainset_r2l_sampled\n",
    "], axis=0)\n",
    "\n",
    "seed_u2r = seed_u2r.sample(frac=1, random_state=42)\n",
    "print(f\"seed_u2r: {len(seed_u2r)}\")\n",
    "seed_u2r.to_csv(\"seed_4_type/u2r/seed_u2r.csv\",index=False)"
   ]
  }
 ],
 "metadata": {
  "kernelspec": {
   "display_name": "pytorch",
   "language": "python",
   "name": "python3"
  },
  "language_info": {
   "codemirror_mode": {
    "name": "ipython",
    "version": 3
   },
   "file_extension": ".py",
   "mimetype": "text/x-python",
   "name": "python",
   "nbconvert_exporter": "python",
   "pygments_lexer": "ipython3",
   "version": "3.12.7"
  }
 },
 "nbformat": 4,
 "nbformat_minor": 2
}
