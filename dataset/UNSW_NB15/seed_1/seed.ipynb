{
 "cells": [
  {
   "cell_type": "code",
   "execution_count": 6,
   "metadata": {},
   "outputs": [
    {
     "name": "stdout",
     "output_type": "stream",
     "text": [
      "A 原始nonself数量: 1120\n",
      "A 去重后nonself数量: 644\n",
      "------------------------\n",
      "B 原始nonself数量: 1120\n",
      "B 去重后nonself数量: 645\n",
      "------------------------\n",
      "D 原始nonself数量: 1120\n",
      "D 去重后nonself数量: 645\n",
      "------------------------\n",
      "E 原始nonself数量: 1120\n",
      "E 去重后nonself数量: 643\n",
      "------------------------\n",
      "F 原始nonself数量: 1120\n",
      "F 去重后nonself数量: 643\n",
      "------------------------\n",
      "G 原始nonself数量: 1120\n",
      "G 去重后nonself数量: 644\n",
      "------------------------\n",
      "R 原始nonself数量: 1120\n",
      "R 去重后nonself数量: 649\n",
      "------------------------\n",
      "S 原始nonself数量: 1120\n",
      "S 去重后nonself数量: 643\n",
      "------------------------\n",
      "W 原始nonself数量: 1120\n",
      "W 去重后nonself数量: 644\n",
      "------------------------\n"
     ]
    }
   ],
   "source": [
    "import pandas as pd\n",
    "import os\n",
    "\n",
    "# 定义种类列表\n",
    "categories = ['A', 'B', 'D', 'E', 'F', 'G', 'R', 'S', 'W']\n",
    "\n",
    "# 存储所有nonself数据的字典\n",
    "all_nonself = {}\n",
    "\n",
    "# 遍历每个种类\n",
    "for category in categories:\n",
    "    # 存储当前种类的所有nonself数据\n",
    "    category_nonself = []\n",
    "    \n",
    "    # 遍历每个Round\n",
    "    for round_num in range(1, 8): \n",
    "        # 构建文件路径\n",
    "        file_path = f'{category}/Round{round_num}/train{category}_nonself.csv'\n",
    "        \n",
    "        # 检查文件是否存在\n",
    "        if os.path.exists(file_path):\n",
    "            \n",
    "            nonself_data = pd.read_csv(file_path)\n",
    "            category_nonself.append(nonself_data)\n",
    "    \n",
    "    if category_nonself:\n",
    "        # 合并当前种类的所有nonself数据\n",
    "        combined_nonself = pd.concat(category_nonself, ignore_index=True)\n",
    "        # 去除重复项\n",
    "        unique_nonself = combined_nonself.drop_duplicates()\n",
    "        # 存储到字典中\n",
    "        all_nonself[category] = unique_nonself\n",
    "        \n",
    "        print(f\"{category} 原始nonself数量: {len(combined_nonself)}\")\n",
    "        print(f\"{category} 去重后nonself数量: {len(unique_nonself)}\")\n",
    "        combined_nonself.to_csv(f'{category}/{category}_nonself.csv', index=False)\n",
    "        print(\"------------------------\")\n"
   ]
  }
 ],
 "metadata": {
  "kernelspec": {
   "display_name": "llm",
   "language": "python",
   "name": "python3"
  },
  "language_info": {
   "codemirror_mode": {
    "name": "ipython",
    "version": 3
   },
   "file_extension": ".py",
   "mimetype": "text/x-python",
   "name": "python",
   "nbconvert_exporter": "python",
   "pygments_lexer": "ipython3",
   "version": "3.12.7"
  }
 },
 "nbformat": 4,
 "nbformat_minor": 2
}
