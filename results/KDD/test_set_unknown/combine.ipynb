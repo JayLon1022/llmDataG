{
 "cells": [
  {
   "cell_type": "code",
   "execution_count": 2,
   "metadata": {},
   "outputs": [],
   "source": [
    "import pandas as pd\n",
    "\n",
    "# print(dataset)\n",
    "\n",
    "detectors = pd.DataFrame()\n",
    "for Round in range(7):\n",
    "    dataset= pd.DataFrame()\n",
    "    path = f\"Round{Round+1}/\"\n",
    "    for r in range(3):\n",
    "        \n",
    "        # print(Round)\n",
    "        data = pd.read_csv(f\"{path}detectors_{r}.csv\")\n",
    "        detectors = pd.concat([detectors, data], ignore_index=True)\n",
    "        dataset = pd.concat([dataset, data], ignore_index=True)\n",
    "    dataset.to_csv(f\"{path}detectors.csv\",index=False)\n",
    "detectors.to_csv(f\"detectors.csv\",index=False)"
   ]
  }
 ],
 "metadata": {
  "kernelspec": {
   "display_name": "pytorch",
   "language": "python",
   "name": "python3"
  },
  "language_info": {
   "codemirror_mode": {
    "name": "ipython",
    "version": 3
   },
   "file_extension": ".py",
   "mimetype": "text/x-python",
   "name": "python",
   "nbconvert_exporter": "python",
   "pygments_lexer": "ipython3",
   "version": "3.12.7"
  }
 },
 "nbformat": 4,
 "nbformat_minor": 2
}
